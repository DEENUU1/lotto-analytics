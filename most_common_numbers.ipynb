{
 "cells": [
  {
   "cell_type": "code",
   "execution_count": 3,
   "id": "initial_id",
   "metadata": {
    "ExecuteTime": {
     "end_time": "2024-04-10T12:11:36.770479400Z",
     "start_time": "2024-04-10T12:11:35.473836500Z"
    }
   },
   "outputs": [],
   "source": [
    "import pandas as pd \n",
    "from typing import Dict, Optional, List\n",
    "from itertools import combinations\n",
    "from collections import Counter"
   ]
  },
  {
   "cell_type": "code",
   "execution_count": 4,
   "id": "55bdfd3909b56059",
   "metadata": {
    "collapsed": false,
    "ExecuteTime": {
     "end_time": "2024-04-10T12:11:37.083818400Z",
     "start_time": "2024-04-10T12:11:36.773481600Z"
    }
   },
   "outputs": [],
   "source": [
    "lotto = pd.read_csv(\"./output/merged_lotto.csv\").drop_duplicates(subset=[\"date\"])\n",
    "lotto_plus = pd.read_csv(\"./output/merged_lottoplus.csv\").drop_duplicates(subset=[\"date\"])\n",
    "mini_lotto = pd.read_csv(\"./output/mini_lotto.csv\").drop_duplicates(subset=[\"date\"])"
   ]
  },
  {
   "cell_type": "code",
   "execution_count": 5,
   "id": "3ac48e99e4cbdb0a",
   "metadata": {
    "collapsed": false,
    "ExecuteTime": {
     "end_time": "2024-04-10T12:11:37.098534300Z",
     "start_time": "2024-04-10T12:11:37.084820500Z"
    }
   },
   "outputs": [],
   "source": [
    "def get_all_numbers(dataset) -> List:\n",
    "    all_numbers = []\n",
    "    for numbers_str in dataset['numbers']:\n",
    "        numbers_list = numbers_str.split(',')\n",
    "        all_numbers.extend(map(int, numbers_list))\n",
    "    \n",
    "    return all_numbers"
   ]
  },
  {
   "cell_type": "code",
   "execution_count": 6,
   "id": "978a8a359524f2d6",
   "metadata": {
    "collapsed": false,
    "ExecuteTime": {
     "end_time": "2024-04-10T12:11:37.099532700Z",
     "start_time": "2024-04-10T12:11:37.090963300Z"
    }
   },
   "outputs": [],
   "source": [
    "def get_most_common_numbers(dataset, num_results: int = 6) -> Dict[Optional[int], Optional[int]]:\n",
    "    all_numbers = get_all_numbers(dataset)\n",
    "    \n",
    "    counts_df = pd.DataFrame(all_numbers, columns=['number']).groupby('number').size().reset_index(name='count')\n",
    "    \n",
    "    counts_df = counts_df.sort_values(by='count', ascending=False)\n",
    "    \n",
    "    return counts_df.head(num_results)\n"
   ]
  },
  {
   "cell_type": "code",
   "execution_count": 7,
   "id": "7478370db9931d86",
   "metadata": {
    "collapsed": false,
    "ExecuteTime": {
     "end_time": "2024-04-10T12:11:37.164000300Z",
     "start_time": "2024-04-10T12:11:37.095533100Z"
    }
   },
   "outputs": [
    {
     "data": {
      "text/plain": "    number  count\n16      17    811\n37      38    798\n33      34    787\n23      24    782\n20      21    781\n3        4    778",
      "text/html": "<div>\n<style scoped>\n    .dataframe tbody tr th:only-of-type {\n        vertical-align: middle;\n    }\n\n    .dataframe tbody tr th {\n        vertical-align: top;\n    }\n\n    .dataframe thead th {\n        text-align: right;\n    }\n</style>\n<table border=\"1\" class=\"dataframe\">\n  <thead>\n    <tr style=\"text-align: right;\">\n      <th></th>\n      <th>number</th>\n      <th>count</th>\n    </tr>\n  </thead>\n  <tbody>\n    <tr>\n      <th>16</th>\n      <td>17</td>\n      <td>811</td>\n    </tr>\n    <tr>\n      <th>37</th>\n      <td>38</td>\n      <td>798</td>\n    </tr>\n    <tr>\n      <th>33</th>\n      <td>34</td>\n      <td>787</td>\n    </tr>\n    <tr>\n      <th>23</th>\n      <td>24</td>\n      <td>782</td>\n    </tr>\n    <tr>\n      <th>20</th>\n      <td>21</td>\n      <td>781</td>\n    </tr>\n    <tr>\n      <th>3</th>\n      <td>4</td>\n      <td>778</td>\n    </tr>\n  </tbody>\n</table>\n</div>"
     },
     "execution_count": 7,
     "metadata": {},
     "output_type": "execute_result"
    }
   ],
   "source": [
    "get_most_common_numbers(lotto)"
   ]
  },
  {
   "cell_type": "code",
   "execution_count": 8,
   "id": "b59cd499-3afa-4cc8-9a8a-56849d5330f1",
   "metadata": {
    "ExecuteTime": {
     "end_time": "2024-04-10T12:11:37.165000100Z",
     "start_time": "2024-04-10T12:11:37.123048200Z"
    }
   },
   "outputs": [
    {
     "data": {
      "text/plain": "    number  count\n43      44    256\n39      40    255\n38      39    254\n7        8    244\n28      29    243\n16      17    242",
      "text/html": "<div>\n<style scoped>\n    .dataframe tbody tr th:only-of-type {\n        vertical-align: middle;\n    }\n\n    .dataframe tbody tr th {\n        vertical-align: top;\n    }\n\n    .dataframe thead th {\n        text-align: right;\n    }\n</style>\n<table border=\"1\" class=\"dataframe\">\n  <thead>\n    <tr style=\"text-align: right;\">\n      <th></th>\n      <th>number</th>\n      <th>count</th>\n    </tr>\n  </thead>\n  <tbody>\n    <tr>\n      <th>43</th>\n      <td>44</td>\n      <td>256</td>\n    </tr>\n    <tr>\n      <th>39</th>\n      <td>40</td>\n      <td>255</td>\n    </tr>\n    <tr>\n      <th>38</th>\n      <td>39</td>\n      <td>254</td>\n    </tr>\n    <tr>\n      <th>7</th>\n      <td>8</td>\n      <td>244</td>\n    </tr>\n    <tr>\n      <th>28</th>\n      <td>29</td>\n      <td>243</td>\n    </tr>\n    <tr>\n      <th>16</th>\n      <td>17</td>\n      <td>242</td>\n    </tr>\n  </tbody>\n</table>\n</div>"
     },
     "execution_count": 8,
     "metadata": {},
     "output_type": "execute_result"
    }
   ],
   "source": [
    "get_most_common_numbers(lotto_plus)"
   ]
  },
  {
   "cell_type": "code",
   "execution_count": 9,
   "id": "509ad229da69c3aa",
   "metadata": {
    "collapsed": false,
    "ExecuteTime": {
     "end_time": "2024-04-10T12:11:37.199001200Z",
     "start_time": "2024-04-10T12:11:37.133461Z"
    }
   },
   "outputs": [
    {
     "data": {
      "text/plain": "    number  count\n35      36    816\n20      21    806\n27      28    792\n6        7    791\n3        4    790\n32      33    774",
      "text/html": "<div>\n<style scoped>\n    .dataframe tbody tr th:only-of-type {\n        vertical-align: middle;\n    }\n\n    .dataframe tbody tr th {\n        vertical-align: top;\n    }\n\n    .dataframe thead th {\n        text-align: right;\n    }\n</style>\n<table border=\"1\" class=\"dataframe\">\n  <thead>\n    <tr style=\"text-align: right;\">\n      <th></th>\n      <th>number</th>\n      <th>count</th>\n    </tr>\n  </thead>\n  <tbody>\n    <tr>\n      <th>35</th>\n      <td>36</td>\n      <td>816</td>\n    </tr>\n    <tr>\n      <th>20</th>\n      <td>21</td>\n      <td>806</td>\n    </tr>\n    <tr>\n      <th>27</th>\n      <td>28</td>\n      <td>792</td>\n    </tr>\n    <tr>\n      <th>6</th>\n      <td>7</td>\n      <td>791</td>\n    </tr>\n    <tr>\n      <th>3</th>\n      <td>4</td>\n      <td>790</td>\n    </tr>\n    <tr>\n      <th>32</th>\n      <td>33</td>\n      <td>774</td>\n    </tr>\n  </tbody>\n</table>\n</div>"
     },
     "execution_count": 9,
     "metadata": {},
     "output_type": "execute_result"
    }
   ],
   "source": [
    "get_most_common_numbers(mini_lotto)"
   ]
  },
  {
   "cell_type": "code",
   "execution_count": 10,
   "id": "7ab48a195f2a1c9a",
   "metadata": {
    "collapsed": false,
    "ExecuteTime": {
     "end_time": "2024-04-10T12:11:37.200001700Z",
     "start_time": "2024-04-10T12:11:37.154993200Z"
    }
   },
   "outputs": [],
   "source": [
    " \n",
    "def get_most_common_numbers_by_year(dataset, num_result: int = 6):\n",
    "    dataset['year'] = pd.to_datetime(dataset['date'], format='%d-%m-%Y').dt.year\n",
    "    \n",
    "    result_df = pd.DataFrame(columns=['year', 'number', 'count'])\n",
    "    \n",
    "    for year, group in dataset.groupby('year'):\n",
    "        all_numbers = []\n",
    "        for numbers_str in group['numbers']:\n",
    "            numbers_list = numbers_str.split(',')\n",
    "            all_numbers.extend(map(int, numbers_list))\n",
    "        \n",
    "        counts_df = pd.DataFrame(all_numbers, columns=['number']).groupby('number').size().reset_index(name='count')\n",
    "        counts_df = counts_df.sort_values(by='count', ascending=False)\n",
    "        counts_df['year'] = year\n",
    "        result_df = pd.concat([result_df, counts_df.head(num_result)])\n",
    "    \n",
    "    return result_df\n"
   ]
  },
  {
   "cell_type": "code",
   "execution_count": 11,
   "id": "e926fe521cad3cbc",
   "metadata": {
    "collapsed": false,
    "ExecuteTime": {
     "end_time": "2024-04-10T12:11:37.556025600Z",
     "start_time": "2024-04-10T12:11:37.157002Z"
    }
   },
   "outputs": [
    {
     "data": {
      "text/plain": "    year number count\n7   1957      8    10\n18  1957     19     9\n12  1957     13     9\n31  1957     32     8\n47  1957     48     8\n..   ...    ...   ...\n1   2024      2     9\n25  2024     26     8\n11  2024     12     8\n43  2024     46     7\n27  2024     28     7\n\n[408 rows x 3 columns]",
      "text/html": "<div>\n<style scoped>\n    .dataframe tbody tr th:only-of-type {\n        vertical-align: middle;\n    }\n\n    .dataframe tbody tr th {\n        vertical-align: top;\n    }\n\n    .dataframe thead th {\n        text-align: right;\n    }\n</style>\n<table border=\"1\" class=\"dataframe\">\n  <thead>\n    <tr style=\"text-align: right;\">\n      <th></th>\n      <th>year</th>\n      <th>number</th>\n      <th>count</th>\n    </tr>\n  </thead>\n  <tbody>\n    <tr>\n      <th>7</th>\n      <td>1957</td>\n      <td>8</td>\n      <td>10</td>\n    </tr>\n    <tr>\n      <th>18</th>\n      <td>1957</td>\n      <td>19</td>\n      <td>9</td>\n    </tr>\n    <tr>\n      <th>12</th>\n      <td>1957</td>\n      <td>13</td>\n      <td>9</td>\n    </tr>\n    <tr>\n      <th>31</th>\n      <td>1957</td>\n      <td>32</td>\n      <td>8</td>\n    </tr>\n    <tr>\n      <th>47</th>\n      <td>1957</td>\n      <td>48</td>\n      <td>8</td>\n    </tr>\n    <tr>\n      <th>...</th>\n      <td>...</td>\n      <td>...</td>\n      <td>...</td>\n    </tr>\n    <tr>\n      <th>1</th>\n      <td>2024</td>\n      <td>2</td>\n      <td>9</td>\n    </tr>\n    <tr>\n      <th>25</th>\n      <td>2024</td>\n      <td>26</td>\n      <td>8</td>\n    </tr>\n    <tr>\n      <th>11</th>\n      <td>2024</td>\n      <td>12</td>\n      <td>8</td>\n    </tr>\n    <tr>\n      <th>43</th>\n      <td>2024</td>\n      <td>46</td>\n      <td>7</td>\n    </tr>\n    <tr>\n      <th>27</th>\n      <td>2024</td>\n      <td>28</td>\n      <td>7</td>\n    </tr>\n  </tbody>\n</table>\n<p>408 rows × 3 columns</p>\n</div>"
     },
     "execution_count": 11,
     "metadata": {},
     "output_type": "execute_result"
    }
   ],
   "source": [
    "get_most_common_numbers_by_year(lotto)"
   ]
  },
  {
   "cell_type": "code",
   "execution_count": 12,
   "id": "e77c4539e369ca1d",
   "metadata": {
    "collapsed": false,
    "ExecuteTime": {
     "end_time": "2024-04-10T12:11:37.557024900Z",
     "start_time": "2024-04-10T12:11:37.298397600Z"
    }
   },
   "outputs": [
    {
     "data": {
      "text/plain": "    year number count\n39  2012     40    12\n26  2012     27    10\n42  2012     43     9\n11  2012     12     9\n43  2012     44     8\n..   ...    ...   ...\n28  2024     29     8\n7   2024      8     8\n8   2024      9     8\n36  2024     37     8\n34  2024     35     7\n\n[78 rows x 3 columns]",
      "text/html": "<div>\n<style scoped>\n    .dataframe tbody tr th:only-of-type {\n        vertical-align: middle;\n    }\n\n    .dataframe tbody tr th {\n        vertical-align: top;\n    }\n\n    .dataframe thead th {\n        text-align: right;\n    }\n</style>\n<table border=\"1\" class=\"dataframe\">\n  <thead>\n    <tr style=\"text-align: right;\">\n      <th></th>\n      <th>year</th>\n      <th>number</th>\n      <th>count</th>\n    </tr>\n  </thead>\n  <tbody>\n    <tr>\n      <th>39</th>\n      <td>2012</td>\n      <td>40</td>\n      <td>12</td>\n    </tr>\n    <tr>\n      <th>26</th>\n      <td>2012</td>\n      <td>27</td>\n      <td>10</td>\n    </tr>\n    <tr>\n      <th>42</th>\n      <td>2012</td>\n      <td>43</td>\n      <td>9</td>\n    </tr>\n    <tr>\n      <th>11</th>\n      <td>2012</td>\n      <td>12</td>\n      <td>9</td>\n    </tr>\n    <tr>\n      <th>43</th>\n      <td>2012</td>\n      <td>44</td>\n      <td>8</td>\n    </tr>\n    <tr>\n      <th>...</th>\n      <td>...</td>\n      <td>...</td>\n      <td>...</td>\n    </tr>\n    <tr>\n      <th>28</th>\n      <td>2024</td>\n      <td>29</td>\n      <td>8</td>\n    </tr>\n    <tr>\n      <th>7</th>\n      <td>2024</td>\n      <td>8</td>\n      <td>8</td>\n    </tr>\n    <tr>\n      <th>8</th>\n      <td>2024</td>\n      <td>9</td>\n      <td>8</td>\n    </tr>\n    <tr>\n      <th>36</th>\n      <td>2024</td>\n      <td>37</td>\n      <td>8</td>\n    </tr>\n    <tr>\n      <th>34</th>\n      <td>2024</td>\n      <td>35</td>\n      <td>7</td>\n    </tr>\n  </tbody>\n</table>\n<p>78 rows × 3 columns</p>\n</div>"
     },
     "execution_count": 12,
     "metadata": {},
     "output_type": "execute_result"
    }
   ],
   "source": [
    "get_most_common_numbers_by_year(lotto_plus)"
   ]
  },
  {
   "cell_type": "code",
   "execution_count": 13,
   "id": "da08b2b143697204",
   "metadata": {
    "collapsed": false,
    "ExecuteTime": {
     "end_time": "2024-04-10T12:11:37.728057300Z",
     "start_time": "2024-04-10T12:11:37.336398Z"
    }
   },
   "outputs": [
    {
     "data": {
      "text/plain": "    year number count\n25  1981     26    11\n4   1981      5    11\n33  1981     34    10\n29  1981     30     9\n14  1981     15     8\n..   ...    ...   ...\n40  2024     41    18\n17  2024     18    18\n27  2024     28    16\n30  2024     31    15\n25  2024     26    15\n\n[258 rows x 3 columns]",
      "text/html": "<div>\n<style scoped>\n    .dataframe tbody tr th:only-of-type {\n        vertical-align: middle;\n    }\n\n    .dataframe tbody tr th {\n        vertical-align: top;\n    }\n\n    .dataframe thead th {\n        text-align: right;\n    }\n</style>\n<table border=\"1\" class=\"dataframe\">\n  <thead>\n    <tr style=\"text-align: right;\">\n      <th></th>\n      <th>year</th>\n      <th>number</th>\n      <th>count</th>\n    </tr>\n  </thead>\n  <tbody>\n    <tr>\n      <th>25</th>\n      <td>1981</td>\n      <td>26</td>\n      <td>11</td>\n    </tr>\n    <tr>\n      <th>4</th>\n      <td>1981</td>\n      <td>5</td>\n      <td>11</td>\n    </tr>\n    <tr>\n      <th>33</th>\n      <td>1981</td>\n      <td>34</td>\n      <td>10</td>\n    </tr>\n    <tr>\n      <th>29</th>\n      <td>1981</td>\n      <td>30</td>\n      <td>9</td>\n    </tr>\n    <tr>\n      <th>14</th>\n      <td>1981</td>\n      <td>15</td>\n      <td>8</td>\n    </tr>\n    <tr>\n      <th>...</th>\n      <td>...</td>\n      <td>...</td>\n      <td>...</td>\n    </tr>\n    <tr>\n      <th>40</th>\n      <td>2024</td>\n      <td>41</td>\n      <td>18</td>\n    </tr>\n    <tr>\n      <th>17</th>\n      <td>2024</td>\n      <td>18</td>\n      <td>18</td>\n    </tr>\n    <tr>\n      <th>27</th>\n      <td>2024</td>\n      <td>28</td>\n      <td>16</td>\n    </tr>\n    <tr>\n      <th>30</th>\n      <td>2024</td>\n      <td>31</td>\n      <td>15</td>\n    </tr>\n    <tr>\n      <th>25</th>\n      <td>2024</td>\n      <td>26</td>\n      <td>15</td>\n    </tr>\n  </tbody>\n</table>\n<p>258 rows × 3 columns</p>\n</div>"
     },
     "execution_count": 13,
     "metadata": {},
     "output_type": "execute_result"
    }
   ],
   "source": [
    "get_most_common_numbers_by_year(mini_lotto)"
   ]
  },
  {
   "cell_type": "code",
   "execution_count": 14,
   "id": "23236c76-4fd4-4618-a281-c608e093f03b",
   "metadata": {
    "ExecuteTime": {
     "end_time": "2024-04-10T12:11:37.728057300Z",
     "start_time": "2024-04-10T12:11:37.432204200Z"
    }
   },
   "outputs": [],
   "source": [
    "def most_common_number_string(dataset, min_length: int = 2, max_length: int = 6):\n",
    "    if min_length < 2:\n",
    "        raise ValueError(\"min_length value must be greater than 2\")\n",
    "    \n",
    "    set_counts = Counter()\n",
    "   \n",
    "    numbers_split = dataset['numbers'].str.split(',')\n",
    "    \n",
    "    for nums in numbers_split:\n",
    "        nums.sort()\n",
    "        for length in range(min_length, min(max_length, len(nums)) + 1):\n",
    "            sets = [tuple(sorted(combo)) for combo in combinations(nums, length)]\n",
    "            set_counts.update(sets)\n",
    "    \n",
    "    sets_df = pd.DataFrame(list(set_counts.items()), columns=['Set', 'Count'])\n",
    "    sets_df = sets_df.sort_values(by='Count', ascending=False)\n",
    "    \n",
    "    return sets_df"
   ]
  },
  {
   "cell_type": "code",
   "execution_count": 19,
   "id": "477e597747509667",
   "metadata": {
    "collapsed": false,
    "ExecuteTime": {
     "end_time": "2024-04-10T12:13:46.151809900Z",
     "start_time": "2024-04-10T12:13:45.925945200Z"
    }
   },
   "outputs": [
    {
     "data": {
      "text/plain": "                             Set  Count\n406                     (21, 39)    105\n1007                     (1, 17)    102\n8647                     (46, 7)    101\n3179                     (29, 9)    101\n5388                    (17, 26)    100\n...                          ...    ...\n61659            (27, 3, 43, 44)      1\n61658           (25, 43, 44, 47)      1\n61657            (25, 3, 44, 47)      1\n61656            (25, 3, 43, 47)      1\n135736  (15, 18, 28, 30, 37, 49)      1\n\n[135737 rows x 2 columns]",
      "text/html": "<div>\n<style scoped>\n    .dataframe tbody tr th:only-of-type {\n        vertical-align: middle;\n    }\n\n    .dataframe tbody tr th {\n        vertical-align: top;\n    }\n\n    .dataframe thead th {\n        text-align: right;\n    }\n</style>\n<table border=\"1\" class=\"dataframe\">\n  <thead>\n    <tr style=\"text-align: right;\">\n      <th></th>\n      <th>Set</th>\n      <th>Count</th>\n    </tr>\n  </thead>\n  <tbody>\n    <tr>\n      <th>406</th>\n      <td>(21, 39)</td>\n      <td>105</td>\n    </tr>\n    <tr>\n      <th>1007</th>\n      <td>(1, 17)</td>\n      <td>102</td>\n    </tr>\n    <tr>\n      <th>8647</th>\n      <td>(46, 7)</td>\n      <td>101</td>\n    </tr>\n    <tr>\n      <th>3179</th>\n      <td>(29, 9)</td>\n      <td>101</td>\n    </tr>\n    <tr>\n      <th>5388</th>\n      <td>(17, 26)</td>\n      <td>100</td>\n    </tr>\n    <tr>\n      <th>...</th>\n      <td>...</td>\n      <td>...</td>\n    </tr>\n    <tr>\n      <th>61659</th>\n      <td>(27, 3, 43, 44)</td>\n      <td>1</td>\n    </tr>\n    <tr>\n      <th>61658</th>\n      <td>(25, 43, 44, 47)</td>\n      <td>1</td>\n    </tr>\n    <tr>\n      <th>61657</th>\n      <td>(25, 3, 44, 47)</td>\n      <td>1</td>\n    </tr>\n    <tr>\n      <th>61656</th>\n      <td>(25, 3, 43, 47)</td>\n      <td>1</td>\n    </tr>\n    <tr>\n      <th>135736</th>\n      <td>(15, 18, 28, 30, 37, 49)</td>\n      <td>1</td>\n    </tr>\n  </tbody>\n</table>\n<p>135737 rows × 2 columns</p>\n</div>"
     },
     "execution_count": 19,
     "metadata": {},
     "output_type": "execute_result"
    }
   ],
   "source": [
    "most_common_number_string(lotto)"
   ]
  },
  {
   "cell_type": "code",
   "execution_count": 16,
   "id": "ab9990dee5fb89ed",
   "metadata": {
    "collapsed": false,
    "ExecuteTime": {
     "end_time": "2024-04-10T12:11:38.010057300Z",
     "start_time": "2024-04-10T12:11:37.460906200Z"
    }
   },
   "outputs": [
    {
     "data": {
      "text/plain": "                            Set  Count\n292                     (29, 6)     39\n2388                   (39, 49)     38\n1562                   (17, 29)     38\n4753                   (38, 40)     38\n790                     (12, 8)     37\n...                         ...    ...\n24019           (2, 21, 26, 38)      1\n24020           (2, 21, 26, 47)      1\n24021           (2, 21, 37, 38)      1\n24022           (2, 21, 37, 47)      1\n55101  (15, 16, 17, 34, 42, 45)      1\n\n[55102 rows x 2 columns]",
      "text/html": "<div>\n<style scoped>\n    .dataframe tbody tr th:only-of-type {\n        vertical-align: middle;\n    }\n\n    .dataframe tbody tr th {\n        vertical-align: top;\n    }\n\n    .dataframe thead th {\n        text-align: right;\n    }\n</style>\n<table border=\"1\" class=\"dataframe\">\n  <thead>\n    <tr style=\"text-align: right;\">\n      <th></th>\n      <th>Set</th>\n      <th>Count</th>\n    </tr>\n  </thead>\n  <tbody>\n    <tr>\n      <th>292</th>\n      <td>(29, 6)</td>\n      <td>39</td>\n    </tr>\n    <tr>\n      <th>2388</th>\n      <td>(39, 49)</td>\n      <td>38</td>\n    </tr>\n    <tr>\n      <th>1562</th>\n      <td>(17, 29)</td>\n      <td>38</td>\n    </tr>\n    <tr>\n      <th>4753</th>\n      <td>(38, 40)</td>\n      <td>38</td>\n    </tr>\n    <tr>\n      <th>790</th>\n      <td>(12, 8)</td>\n      <td>37</td>\n    </tr>\n    <tr>\n      <th>...</th>\n      <td>...</td>\n      <td>...</td>\n    </tr>\n    <tr>\n      <th>24019</th>\n      <td>(2, 21, 26, 38)</td>\n      <td>1</td>\n    </tr>\n    <tr>\n      <th>24020</th>\n      <td>(2, 21, 26, 47)</td>\n      <td>1</td>\n    </tr>\n    <tr>\n      <th>24021</th>\n      <td>(2, 21, 37, 38)</td>\n      <td>1</td>\n    </tr>\n    <tr>\n      <th>24022</th>\n      <td>(2, 21, 37, 47)</td>\n      <td>1</td>\n    </tr>\n    <tr>\n      <th>55101</th>\n      <td>(15, 16, 17, 34, 42, 45)</td>\n      <td>1</td>\n    </tr>\n  </tbody>\n</table>\n<p>55102 rows × 2 columns</p>\n</div>"
     },
     "execution_count": 16,
     "metadata": {},
     "output_type": "execute_result"
    }
   ],
   "source": [
    "most_common_number_string(lotto_plus)"
   ]
  },
  {
   "cell_type": "code",
   "execution_count": 17,
   "id": "6b82015cccff97d3",
   "metadata": {
    "collapsed": false,
    "ExecuteTime": {
     "end_time": "2024-04-10T12:11:38.089057600Z",
     "start_time": "2024-04-10T12:11:37.555024400Z"
    }
   },
   "outputs": [
    {
     "data": {
      "text/plain": "                       Set  Count\n921                (32, 7)    104\n84                (36, 42)    102\n2648                (2, 3)    101\n2235              (21, 36)    100\n896               (28, 30)     95\n...                    ...    ...\n25463      (26, 35, 38, 5)      1\n25462      (14, 35, 38, 5)      1\n25461      (14, 26, 38, 5)      1\n25460      (14, 26, 35, 5)      1\n46050  (10, 17, 25, 29, 8)      1\n\n[46051 rows x 2 columns]",
      "text/html": "<div>\n<style scoped>\n    .dataframe tbody tr th:only-of-type {\n        vertical-align: middle;\n    }\n\n    .dataframe tbody tr th {\n        vertical-align: top;\n    }\n\n    .dataframe thead th {\n        text-align: right;\n    }\n</style>\n<table border=\"1\" class=\"dataframe\">\n  <thead>\n    <tr style=\"text-align: right;\">\n      <th></th>\n      <th>Set</th>\n      <th>Count</th>\n    </tr>\n  </thead>\n  <tbody>\n    <tr>\n      <th>921</th>\n      <td>(32, 7)</td>\n      <td>104</td>\n    </tr>\n    <tr>\n      <th>84</th>\n      <td>(36, 42)</td>\n      <td>102</td>\n    </tr>\n    <tr>\n      <th>2648</th>\n      <td>(2, 3)</td>\n      <td>101</td>\n    </tr>\n    <tr>\n      <th>2235</th>\n      <td>(21, 36)</td>\n      <td>100</td>\n    </tr>\n    <tr>\n      <th>896</th>\n      <td>(28, 30)</td>\n      <td>95</td>\n    </tr>\n    <tr>\n      <th>...</th>\n      <td>...</td>\n      <td>...</td>\n    </tr>\n    <tr>\n      <th>25463</th>\n      <td>(26, 35, 38, 5)</td>\n      <td>1</td>\n    </tr>\n    <tr>\n      <th>25462</th>\n      <td>(14, 35, 38, 5)</td>\n      <td>1</td>\n    </tr>\n    <tr>\n      <th>25461</th>\n      <td>(14, 26, 38, 5)</td>\n      <td>1</td>\n    </tr>\n    <tr>\n      <th>25460</th>\n      <td>(14, 26, 35, 5)</td>\n      <td>1</td>\n    </tr>\n    <tr>\n      <th>46050</th>\n      <td>(10, 17, 25, 29, 8)</td>\n      <td>1</td>\n    </tr>\n  </tbody>\n</table>\n<p>46051 rows × 2 columns</p>\n</div>"
     },
     "execution_count": 17,
     "metadata": {},
     "output_type": "execute_result"
    }
   ],
   "source": [
    "most_common_number_string(mini_lotto)"
   ]
  },
  {
   "cell_type": "code",
   "execution_count": 18,
   "id": "32adfb6db268cd49",
   "metadata": {
    "collapsed": false,
    "ExecuteTime": {
     "end_time": "2024-04-10T12:11:38.091056600Z",
     "start_time": "2024-04-10T12:11:37.660431600Z"
    }
   },
   "outputs": [
    {
     "data": {
      "text/plain": "True"
     },
     "execution_count": 18,
     "metadata": {},
     "output_type": "execute_result"
    }
   ],
   "source": [
    "def test_most_common_number_string() -> None:\n",
    "    test_number_string = [15, 24, 27, 37, 46, 8]\n",
    "    test_number_set = set(test_number_string)\n",
    "\n",
    "    test_number_set = set(test_number_string)\n",
    "\n",
    "    def check_existence(row):\n",
    "        row_numbers = set(map(int, row.split(',')))\n",
    "        return test_number_set == row_numbers\n",
    "\n",
    "    test_existence = lotto['numbers'].apply(check_existence)\n",
    "    \n",
    "    return test_existence.sum() == 1\n",
    "    \n",
    "test_most_common_number_string()\n",
    "    "
   ]
  }
 ],
 "metadata": {
  "kernelspec": {
   "display_name": "Python 3 (ipykernel)",
   "language": "python",
   "name": "python3"
  },
  "language_info": {
   "codemirror_mode": {
    "name": "ipython",
    "version": 3
   },
   "file_extension": ".py",
   "mimetype": "text/x-python",
   "name": "python",
   "nbconvert_exporter": "python",
   "pygments_lexer": "ipython3",
   "version": "3.12.0"
  }
 },
 "nbformat": 4,
 "nbformat_minor": 5
}
