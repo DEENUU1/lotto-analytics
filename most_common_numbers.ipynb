{
 "cells": [
  {
   "cell_type": "code",
   "execution_count": 12,
   "id": "initial_id",
   "metadata": {
    "ExecuteTime": {
     "end_time": "2024-04-08T13:59:52.574392300Z",
     "start_time": "2024-04-08T13:59:50.754474200Z"
    }
   },
   "outputs": [],
   "source": [
    "import pandas as pd \n",
    "from typing import Dict, Optional, List\n",
    "from itertools import combinations\n",
    "from collections import Counter\n",
    "import matplotlib.pyplot as plt"
   ]
  },
  {
   "cell_type": "code",
   "execution_count": 19,
   "id": "55bdfd3909b56059",
   "metadata": {
    "ExecuteTime": {
     "end_time": "2024-04-05T00:36:59.560621900Z",
     "start_time": "2024-04-05T00:36:59.272443700Z"
    },
    "collapsed": false,
    "jupyter": {
     "outputs_hidden": false
    }
   },
   "outputs": [
    {
     "name": "stdout",
     "output_type": "stream",
     "text": [
      "        number        date            numbers  szostka_count  szostka_value  \\\n",
      "0           47  22-12-1957   8,15,24,27,37,46              0            0.0   \n",
      "1           46  15-12-1957   7,12,19,36,42,49              0            0.0   \n",
      "2           45  08-12-1957  11,17,24,35,42,47              0            0.0   \n",
      "3           44  01-12-1957    5,8,14,26,32,44              0            0.0   \n",
      "4           43  24-11-1957    2,6,18,20,40,49              0            0.0   \n",
      "...        ...         ...                ...            ...            ...   \n",
      "201003    6986  11-01-2024   2,13,17,26,34,38              0            0.0   \n",
      "201004    6985  09-01-2024   4,19,20,23,28,48              0            0.0   \n",
      "201005    6984  06-01-2024      2,5,8,9,30,42              0            0.0   \n",
      "201006    6983  04-01-2024  10,25,26,28,44,46              0            0.0   \n",
      "201007    6982  02-01-2024  15,18,28,30,37,49              0            0.0   \n",
      "\n",
      "        piatka_count  piatka_value  czworka_count  czworka_value  \\\n",
      "0                  0           0.0              0            0.0   \n",
      "1                  0           0.0              0            0.0   \n",
      "2                  0           0.0              0            0.0   \n",
      "3                  0           0.0              0            0.0   \n",
      "4                  0           0.0              0            0.0   \n",
      "...              ...           ...            ...            ...   \n",
      "201003            81        3846.3           3775           99.6   \n",
      "201004            44        6444.4           2869          153.4   \n",
      "201005            52        5356.9           3203           97.6   \n",
      "201006            41        6255.7           2181          232.5   \n",
      "201007            25        8708.2           1818          252.4   \n",
      "\n",
      "        trojka_count  trojka_value  \n",
      "0                  0           0.0  \n",
      "1                  0           0.0  \n",
      "2                  0           0.0  \n",
      "3                  0           0.0  \n",
      "4                  0           0.0  \n",
      "...              ...           ...  \n",
      "201003         62224          24.0  \n",
      "201004         52554          24.0  \n",
      "201005         56621          24.0  \n",
      "201006         42999          24.0  \n",
      "201007         35307          24.0  \n",
      "\n",
      "[6065 rows x 11 columns]\n"
     ]
    }
   ],
   "source": [
    "lotto = pd.read_csv(\"./output/merged_lotto.csv\").drop_duplicates(subset=[\"date\"])\n",
    "lotto_plus = pd.read_csv(\"./output/merged_lottoplus.csv\").drop_duplicates(subset=[\"date\"])\n",
    "mini_lotto = pd.read_csv(\"./output/mini_lotto.csv\").drop_duplicates(subset=[\"date\"])\n",
    "print(lotto)"
   ]
  },
  {
   "cell_type": "code",
   "execution_count": 20,
   "id": "3ac48e99e4cbdb0a",
   "metadata": {
    "ExecuteTime": {
     "end_time": "2024-04-05T00:36:59.564378600Z",
     "start_time": "2024-04-05T00:36:59.559620500Z"
    },
    "collapsed": false,
    "jupyter": {
     "outputs_hidden": false
    }
   },
   "outputs": [],
   "source": [
    "def get_all_numbers(dataset) -> List:\n",
    "    all_numbers = []\n",
    "    for numbers_str in dataset['numbers']:\n",
    "        numbers_list = numbers_str.split(',')\n",
    "        all_numbers.extend(map(int, numbers_list))\n",
    "    \n",
    "    return all_numbers"
   ]
  },
  {
   "cell_type": "code",
   "execution_count": 21,
   "id": "978a8a359524f2d6",
   "metadata": {
    "ExecuteTime": {
     "end_time": "2024-04-05T00:36:59.572910500Z",
     "start_time": "2024-04-05T00:36:59.564378600Z"
    },
    "collapsed": false,
    "jupyter": {
     "outputs_hidden": false
    }
   },
   "outputs": [],
   "source": [
    "\n",
    "\n",
    "def get_most_common_numbers(dataset, num_results: int = 6) -> Dict[Optional[int], Optional[int]]:\n",
    "    all_numbers = get_all_numbers(dataset)\n",
    "    \n",
    "    counts_df = pd.DataFrame(all_numbers, columns=['number']).groupby('number').size().reset_index(name='count')\n",
    "    \n",
    "    counts_df = counts_df.sort_values(by='count', ascending=False)\n",
    "    \n",
    "    return counts_df.head(num_results)\n"
   ]
  },
  {
   "cell_type": "code",
   "execution_count": 22,
   "id": "7478370db9931d86",
   "metadata": {
    "ExecuteTime": {
     "end_time": "2024-04-05T00:37:00.054659100Z",
     "start_time": "2024-04-05T00:36:59.572910500Z"
    },
    "collapsed": false,
    "jupyter": {
     "outputs_hidden": false
    }
   },
   "outputs": [
    {
     "data": {
      "text/html": [
       "<div>\n",
       "<style scoped>\n",
       "    .dataframe tbody tr th:only-of-type {\n",
       "        vertical-align: middle;\n",
       "    }\n",
       "\n",
       "    .dataframe tbody tr th {\n",
       "        vertical-align: top;\n",
       "    }\n",
       "\n",
       "    .dataframe thead th {\n",
       "        text-align: right;\n",
       "    }\n",
       "</style>\n",
       "<table border=\"1\" class=\"dataframe\">\n",
       "  <thead>\n",
       "    <tr style=\"text-align: right;\">\n",
       "      <th></th>\n",
       "      <th>number</th>\n",
       "      <th>count</th>\n",
       "    </tr>\n",
       "  </thead>\n",
       "  <tbody>\n",
       "    <tr>\n",
       "      <th>16</th>\n",
       "      <td>17</td>\n",
       "      <td>811</td>\n",
       "    </tr>\n",
       "    <tr>\n",
       "      <th>37</th>\n",
       "      <td>38</td>\n",
       "      <td>798</td>\n",
       "    </tr>\n",
       "    <tr>\n",
       "      <th>33</th>\n",
       "      <td>34</td>\n",
       "      <td>787</td>\n",
       "    </tr>\n",
       "    <tr>\n",
       "      <th>23</th>\n",
       "      <td>24</td>\n",
       "      <td>782</td>\n",
       "    </tr>\n",
       "    <tr>\n",
       "      <th>20</th>\n",
       "      <td>21</td>\n",
       "      <td>781</td>\n",
       "    </tr>\n",
       "    <tr>\n",
       "      <th>3</th>\n",
       "      <td>4</td>\n",
       "      <td>778</td>\n",
       "    </tr>\n",
       "  </tbody>\n",
       "</table>\n",
       "</div>"
      ],
      "text/plain": [
       "    number  count\n",
       "16      17    811\n",
       "37      38    798\n",
       "33      34    787\n",
       "23      24    782\n",
       "20      21    781\n",
       "3        4    778"
      ]
     },
     "execution_count": 22,
     "metadata": {},
     "output_type": "execute_result"
    }
   ],
   "source": [
    "get_most_common_numbers(lotto)"
   ]
  },
  {
   "cell_type": "code",
   "execution_count": 23,
   "id": "b59cd499-3afa-4cc8-9a8a-56849d5330f1",
   "metadata": {
    "ExecuteTime": {
     "end_time": "2024-04-05T00:37:00.098657Z",
     "start_time": "2024-04-05T00:37:00.019586700Z"
    }
   },
   "outputs": [
    {
     "data": {
      "text/html": [
       "<div>\n",
       "<style scoped>\n",
       "    .dataframe tbody tr th:only-of-type {\n",
       "        vertical-align: middle;\n",
       "    }\n",
       "\n",
       "    .dataframe tbody tr th {\n",
       "        vertical-align: top;\n",
       "    }\n",
       "\n",
       "    .dataframe thead th {\n",
       "        text-align: right;\n",
       "    }\n",
       "</style>\n",
       "<table border=\"1\" class=\"dataframe\">\n",
       "  <thead>\n",
       "    <tr style=\"text-align: right;\">\n",
       "      <th></th>\n",
       "      <th>number</th>\n",
       "      <th>count</th>\n",
       "    </tr>\n",
       "  </thead>\n",
       "  <tbody>\n",
       "    <tr>\n",
       "      <th>43</th>\n",
       "      <td>44</td>\n",
       "      <td>256</td>\n",
       "    </tr>\n",
       "    <tr>\n",
       "      <th>39</th>\n",
       "      <td>40</td>\n",
       "      <td>255</td>\n",
       "    </tr>\n",
       "    <tr>\n",
       "      <th>38</th>\n",
       "      <td>39</td>\n",
       "      <td>254</td>\n",
       "    </tr>\n",
       "    <tr>\n",
       "      <th>7</th>\n",
       "      <td>8</td>\n",
       "      <td>244</td>\n",
       "    </tr>\n",
       "    <tr>\n",
       "      <th>28</th>\n",
       "      <td>29</td>\n",
       "      <td>243</td>\n",
       "    </tr>\n",
       "    <tr>\n",
       "      <th>16</th>\n",
       "      <td>17</td>\n",
       "      <td>242</td>\n",
       "    </tr>\n",
       "  </tbody>\n",
       "</table>\n",
       "</div>"
      ],
      "text/plain": [
       "    number  count\n",
       "43      44    256\n",
       "39      40    255\n",
       "38      39    254\n",
       "7        8    244\n",
       "28      29    243\n",
       "16      17    242"
      ]
     },
     "execution_count": 23,
     "metadata": {},
     "output_type": "execute_result"
    }
   ],
   "source": [
    "get_most_common_numbers(lotto_plus)"
   ]
  },
  {
   "cell_type": "code",
   "execution_count": 24,
   "id": "509ad229da69c3aa",
   "metadata": {
    "ExecuteTime": {
     "end_time": "2024-04-05T00:37:00.307739700Z",
     "start_time": "2024-04-05T00:37:00.056656500Z"
    },
    "collapsed": false,
    "jupyter": {
     "outputs_hidden": false
    }
   },
   "outputs": [
    {
     "data": {
      "text/html": [
       "<div>\n",
       "<style scoped>\n",
       "    .dataframe tbody tr th:only-of-type {\n",
       "        vertical-align: middle;\n",
       "    }\n",
       "\n",
       "    .dataframe tbody tr th {\n",
       "        vertical-align: top;\n",
       "    }\n",
       "\n",
       "    .dataframe thead th {\n",
       "        text-align: right;\n",
       "    }\n",
       "</style>\n",
       "<table border=\"1\" class=\"dataframe\">\n",
       "  <thead>\n",
       "    <tr style=\"text-align: right;\">\n",
       "      <th></th>\n",
       "      <th>number</th>\n",
       "      <th>count</th>\n",
       "    </tr>\n",
       "  </thead>\n",
       "  <tbody>\n",
       "    <tr>\n",
       "      <th>35</th>\n",
       "      <td>36</td>\n",
       "      <td>816</td>\n",
       "    </tr>\n",
       "    <tr>\n",
       "      <th>20</th>\n",
       "      <td>21</td>\n",
       "      <td>806</td>\n",
       "    </tr>\n",
       "    <tr>\n",
       "      <th>27</th>\n",
       "      <td>28</td>\n",
       "      <td>792</td>\n",
       "    </tr>\n",
       "    <tr>\n",
       "      <th>6</th>\n",
       "      <td>7</td>\n",
       "      <td>791</td>\n",
       "    </tr>\n",
       "    <tr>\n",
       "      <th>3</th>\n",
       "      <td>4</td>\n",
       "      <td>790</td>\n",
       "    </tr>\n",
       "    <tr>\n",
       "      <th>32</th>\n",
       "      <td>33</td>\n",
       "      <td>774</td>\n",
       "    </tr>\n",
       "  </tbody>\n",
       "</table>\n",
       "</div>"
      ],
      "text/plain": [
       "    number  count\n",
       "35      36    816\n",
       "20      21    806\n",
       "27      28    792\n",
       "6        7    791\n",
       "3        4    790\n",
       "32      33    774"
      ]
     },
     "execution_count": 24,
     "metadata": {},
     "output_type": "execute_result"
    }
   ],
   "source": [
    "get_most_common_numbers(mini_lotto)"
   ]
  },
  {
   "cell_type": "code",
   "execution_count": 25,
   "id": "7ab48a195f2a1c9a",
   "metadata": {
    "ExecuteTime": {
     "end_time": "2024-04-05T00:37:00.309740800Z",
     "start_time": "2024-04-05T00:37:00.205285900Z"
    },
    "collapsed": false,
    "jupyter": {
     "outputs_hidden": false
    }
   },
   "outputs": [],
   "source": [
    " \n",
    "def get_most_common_numbers_by_year(dataset, num_result: int = 6):\n",
    "    dataset['year'] = pd.to_datetime(dataset['date'], format='%d-%m-%Y').dt.year\n",
    "    \n",
    "    result_df = pd.DataFrame(columns=['year', 'number', 'count'])\n",
    "    \n",
    "    for year, group in dataset.groupby('year'):\n",
    "        all_numbers = []\n",
    "        for numbers_str in group['numbers']:\n",
    "            numbers_list = numbers_str.split(',')\n",
    "            all_numbers.extend(map(int, numbers_list))\n",
    "        \n",
    "        counts_df = pd.DataFrame(all_numbers, columns=['number']).groupby('number').size().reset_index(name='count')\n",
    "        counts_df = counts_df.sort_values(by='count', ascending=False)\n",
    "        counts_df['year'] = year\n",
    "        result_df = pd.concat([result_df, counts_df.head(num_result)])\n",
    "    \n",
    "    return result_df\n"
   ]
  },
  {
   "cell_type": "code",
   "execution_count": 26,
   "id": "e926fe521cad3cbc",
   "metadata": {
    "ExecuteTime": {
     "end_time": "2024-04-05T00:37:01.196333500Z",
     "start_time": "2024-04-05T00:37:00.211824500Z"
    },
    "collapsed": false,
    "jupyter": {
     "outputs_hidden": false
    }
   },
   "outputs": [
    {
     "data": {
      "text/html": [
       "<div>\n",
       "<style scoped>\n",
       "    .dataframe tbody tr th:only-of-type {\n",
       "        vertical-align: middle;\n",
       "    }\n",
       "\n",
       "    .dataframe tbody tr th {\n",
       "        vertical-align: top;\n",
       "    }\n",
       "\n",
       "    .dataframe thead th {\n",
       "        text-align: right;\n",
       "    }\n",
       "</style>\n",
       "<table border=\"1\" class=\"dataframe\">\n",
       "  <thead>\n",
       "    <tr style=\"text-align: right;\">\n",
       "      <th></th>\n",
       "      <th>year</th>\n",
       "      <th>number</th>\n",
       "      <th>count</th>\n",
       "    </tr>\n",
       "  </thead>\n",
       "  <tbody>\n",
       "    <tr>\n",
       "      <th>7</th>\n",
       "      <td>1957</td>\n",
       "      <td>8</td>\n",
       "      <td>10</td>\n",
       "    </tr>\n",
       "    <tr>\n",
       "      <th>18</th>\n",
       "      <td>1957</td>\n",
       "      <td>19</td>\n",
       "      <td>9</td>\n",
       "    </tr>\n",
       "    <tr>\n",
       "      <th>12</th>\n",
       "      <td>1957</td>\n",
       "      <td>13</td>\n",
       "      <td>9</td>\n",
       "    </tr>\n",
       "    <tr>\n",
       "      <th>31</th>\n",
       "      <td>1957</td>\n",
       "      <td>32</td>\n",
       "      <td>8</td>\n",
       "    </tr>\n",
       "    <tr>\n",
       "      <th>47</th>\n",
       "      <td>1957</td>\n",
       "      <td>48</td>\n",
       "      <td>8</td>\n",
       "    </tr>\n",
       "    <tr>\n",
       "      <th>...</th>\n",
       "      <td>...</td>\n",
       "      <td>...</td>\n",
       "      <td>...</td>\n",
       "    </tr>\n",
       "    <tr>\n",
       "      <th>1</th>\n",
       "      <td>2024</td>\n",
       "      <td>2</td>\n",
       "      <td>9</td>\n",
       "    </tr>\n",
       "    <tr>\n",
       "      <th>25</th>\n",
       "      <td>2024</td>\n",
       "      <td>26</td>\n",
       "      <td>8</td>\n",
       "    </tr>\n",
       "    <tr>\n",
       "      <th>11</th>\n",
       "      <td>2024</td>\n",
       "      <td>12</td>\n",
       "      <td>8</td>\n",
       "    </tr>\n",
       "    <tr>\n",
       "      <th>43</th>\n",
       "      <td>2024</td>\n",
       "      <td>46</td>\n",
       "      <td>7</td>\n",
       "    </tr>\n",
       "    <tr>\n",
       "      <th>27</th>\n",
       "      <td>2024</td>\n",
       "      <td>28</td>\n",
       "      <td>7</td>\n",
       "    </tr>\n",
       "  </tbody>\n",
       "</table>\n",
       "<p>408 rows × 3 columns</p>\n",
       "</div>"
      ],
      "text/plain": [
       "    year number count\n",
       "7   1957      8    10\n",
       "18  1957     19     9\n",
       "12  1957     13     9\n",
       "31  1957     32     8\n",
       "47  1957     48     8\n",
       "..   ...    ...   ...\n",
       "1   2024      2     9\n",
       "25  2024     26     8\n",
       "11  2024     12     8\n",
       "43  2024     46     7\n",
       "27  2024     28     7\n",
       "\n",
       "[408 rows x 3 columns]"
      ]
     },
     "execution_count": 26,
     "metadata": {},
     "output_type": "execute_result"
    }
   ],
   "source": [
    "get_most_common_numbers_by_year(lotto)"
   ]
  },
  {
   "cell_type": "code",
   "execution_count": 27,
   "id": "e77c4539e369ca1d",
   "metadata": {
    "ExecuteTime": {
     "end_time": "2024-04-05T00:37:01.220343800Z",
     "start_time": "2024-04-05T00:37:00.953285200Z"
    },
    "collapsed": false,
    "jupyter": {
     "outputs_hidden": false
    }
   },
   "outputs": [
    {
     "data": {
      "text/html": [
       "<div>\n",
       "<style scoped>\n",
       "    .dataframe tbody tr th:only-of-type {\n",
       "        vertical-align: middle;\n",
       "    }\n",
       "\n",
       "    .dataframe tbody tr th {\n",
       "        vertical-align: top;\n",
       "    }\n",
       "\n",
       "    .dataframe thead th {\n",
       "        text-align: right;\n",
       "    }\n",
       "</style>\n",
       "<table border=\"1\" class=\"dataframe\">\n",
       "  <thead>\n",
       "    <tr style=\"text-align: right;\">\n",
       "      <th></th>\n",
       "      <th>year</th>\n",
       "      <th>number</th>\n",
       "      <th>count</th>\n",
       "    </tr>\n",
       "  </thead>\n",
       "  <tbody>\n",
       "    <tr>\n",
       "      <th>39</th>\n",
       "      <td>2012</td>\n",
       "      <td>40</td>\n",
       "      <td>12</td>\n",
       "    </tr>\n",
       "    <tr>\n",
       "      <th>26</th>\n",
       "      <td>2012</td>\n",
       "      <td>27</td>\n",
       "      <td>10</td>\n",
       "    </tr>\n",
       "    <tr>\n",
       "      <th>42</th>\n",
       "      <td>2012</td>\n",
       "      <td>43</td>\n",
       "      <td>9</td>\n",
       "    </tr>\n",
       "    <tr>\n",
       "      <th>11</th>\n",
       "      <td>2012</td>\n",
       "      <td>12</td>\n",
       "      <td>9</td>\n",
       "    </tr>\n",
       "    <tr>\n",
       "      <th>43</th>\n",
       "      <td>2012</td>\n",
       "      <td>44</td>\n",
       "      <td>8</td>\n",
       "    </tr>\n",
       "    <tr>\n",
       "      <th>...</th>\n",
       "      <td>...</td>\n",
       "      <td>...</td>\n",
       "      <td>...</td>\n",
       "    </tr>\n",
       "    <tr>\n",
       "      <th>28</th>\n",
       "      <td>2024</td>\n",
       "      <td>29</td>\n",
       "      <td>8</td>\n",
       "    </tr>\n",
       "    <tr>\n",
       "      <th>7</th>\n",
       "      <td>2024</td>\n",
       "      <td>8</td>\n",
       "      <td>8</td>\n",
       "    </tr>\n",
       "    <tr>\n",
       "      <th>8</th>\n",
       "      <td>2024</td>\n",
       "      <td>9</td>\n",
       "      <td>8</td>\n",
       "    </tr>\n",
       "    <tr>\n",
       "      <th>36</th>\n",
       "      <td>2024</td>\n",
       "      <td>37</td>\n",
       "      <td>8</td>\n",
       "    </tr>\n",
       "    <tr>\n",
       "      <th>34</th>\n",
       "      <td>2024</td>\n",
       "      <td>35</td>\n",
       "      <td>7</td>\n",
       "    </tr>\n",
       "  </tbody>\n",
       "</table>\n",
       "<p>78 rows × 3 columns</p>\n",
       "</div>"
      ],
      "text/plain": [
       "    year number count\n",
       "39  2012     40    12\n",
       "26  2012     27    10\n",
       "42  2012     43     9\n",
       "11  2012     12     9\n",
       "43  2012     44     8\n",
       "..   ...    ...   ...\n",
       "28  2024     29     8\n",
       "7   2024      8     8\n",
       "8   2024      9     8\n",
       "36  2024     37     8\n",
       "34  2024     35     7\n",
       "\n",
       "[78 rows x 3 columns]"
      ]
     },
     "execution_count": 27,
     "metadata": {},
     "output_type": "execute_result"
    }
   ],
   "source": [
    "get_most_common_numbers_by_year(lotto_plus)"
   ]
  },
  {
   "cell_type": "code",
   "execution_count": 28,
   "id": "da08b2b143697204",
   "metadata": {
    "ExecuteTime": {
     "end_time": "2024-04-05T00:37:01.536408Z",
     "start_time": "2024-04-05T00:37:01.041819500Z"
    },
    "collapsed": false,
    "jupyter": {
     "outputs_hidden": false
    }
   },
   "outputs": [
    {
     "data": {
      "text/html": [
       "<div>\n",
       "<style scoped>\n",
       "    .dataframe tbody tr th:only-of-type {\n",
       "        vertical-align: middle;\n",
       "    }\n",
       "\n",
       "    .dataframe tbody tr th {\n",
       "        vertical-align: top;\n",
       "    }\n",
       "\n",
       "    .dataframe thead th {\n",
       "        text-align: right;\n",
       "    }\n",
       "</style>\n",
       "<table border=\"1\" class=\"dataframe\">\n",
       "  <thead>\n",
       "    <tr style=\"text-align: right;\">\n",
       "      <th></th>\n",
       "      <th>year</th>\n",
       "      <th>number</th>\n",
       "      <th>count</th>\n",
       "    </tr>\n",
       "  </thead>\n",
       "  <tbody>\n",
       "    <tr>\n",
       "      <th>25</th>\n",
       "      <td>1981</td>\n",
       "      <td>26</td>\n",
       "      <td>11</td>\n",
       "    </tr>\n",
       "    <tr>\n",
       "      <th>4</th>\n",
       "      <td>1981</td>\n",
       "      <td>5</td>\n",
       "      <td>11</td>\n",
       "    </tr>\n",
       "    <tr>\n",
       "      <th>33</th>\n",
       "      <td>1981</td>\n",
       "      <td>34</td>\n",
       "      <td>10</td>\n",
       "    </tr>\n",
       "    <tr>\n",
       "      <th>29</th>\n",
       "      <td>1981</td>\n",
       "      <td>30</td>\n",
       "      <td>9</td>\n",
       "    </tr>\n",
       "    <tr>\n",
       "      <th>14</th>\n",
       "      <td>1981</td>\n",
       "      <td>15</td>\n",
       "      <td>8</td>\n",
       "    </tr>\n",
       "    <tr>\n",
       "      <th>...</th>\n",
       "      <td>...</td>\n",
       "      <td>...</td>\n",
       "      <td>...</td>\n",
       "    </tr>\n",
       "    <tr>\n",
       "      <th>40</th>\n",
       "      <td>2024</td>\n",
       "      <td>41</td>\n",
       "      <td>18</td>\n",
       "    </tr>\n",
       "    <tr>\n",
       "      <th>17</th>\n",
       "      <td>2024</td>\n",
       "      <td>18</td>\n",
       "      <td>18</td>\n",
       "    </tr>\n",
       "    <tr>\n",
       "      <th>27</th>\n",
       "      <td>2024</td>\n",
       "      <td>28</td>\n",
       "      <td>16</td>\n",
       "    </tr>\n",
       "    <tr>\n",
       "      <th>30</th>\n",
       "      <td>2024</td>\n",
       "      <td>31</td>\n",
       "      <td>15</td>\n",
       "    </tr>\n",
       "    <tr>\n",
       "      <th>25</th>\n",
       "      <td>2024</td>\n",
       "      <td>26</td>\n",
       "      <td>15</td>\n",
       "    </tr>\n",
       "  </tbody>\n",
       "</table>\n",
       "<p>258 rows × 3 columns</p>\n",
       "</div>"
      ],
      "text/plain": [
       "    year number count\n",
       "25  1981     26    11\n",
       "4   1981      5    11\n",
       "33  1981     34    10\n",
       "29  1981     30     9\n",
       "14  1981     15     8\n",
       "..   ...    ...   ...\n",
       "40  2024     41    18\n",
       "17  2024     18    18\n",
       "27  2024     28    16\n",
       "30  2024     31    15\n",
       "25  2024     26    15\n",
       "\n",
       "[258 rows x 3 columns]"
      ]
     },
     "execution_count": 28,
     "metadata": {},
     "output_type": "execute_result"
    }
   ],
   "source": [
    "get_most_common_numbers_by_year(mini_lotto)"
   ]
  },
  {
   "cell_type": "code",
   "execution_count": 29,
   "id": "23236c76-4fd4-4618-a281-c608e093f03b",
   "metadata": {
    "ExecuteTime": {
     "end_time": "2024-04-05T00:37:01.537411500Z",
     "start_time": "2024-04-05T00:37:01.348586100Z"
    }
   },
   "outputs": [],
   "source": [
    "def most_common_number_string(dataset, min_length: int = 2, max_length: int = 6):\n",
    "    if min_length < 2:\n",
    "        raise ValueError(\"min_length value must be greater than 2\")\n",
    "    \n",
    "    set_counts = Counter()\n",
    "   \n",
    "    numbers_split = dataset['numbers'].str.split(',')\n",
    "    \n",
    "    for nums in numbers_split:\n",
    "        nums.sort()\n",
    "        for length in range(min_length, min(max_length, len(nums)) + 1):\n",
    "            sets = [tuple(sorted(combo)) for combo in combinations(nums, length)]\n",
    "            set_counts.update(sets)\n",
    "    \n",
    "    sets_df = pd.DataFrame(list(set_counts.items()), columns=['Set', 'Count'])\n",
    "    sets_df = sets_df.sort_values(by='Count', ascending=False)\n",
    "    \n",
    "    return sets_df"
   ]
  },
  {
   "cell_type": "code",
   "execution_count": 30,
   "id": "477e597747509667",
   "metadata": {
    "ExecuteTime": {
     "end_time": "2024-04-05T00:43:30.018143600Z",
     "start_time": "2024-04-05T00:43:28.958852900Z"
    },
    "collapsed": false,
    "jupyter": {
     "outputs_hidden": false
    }
   },
   "outputs": [],
   "source": [
    "data = most_common_number_string(lotto, 6, 6)\n",
    "\n",
    "\n"
   ]
  },
  {
   "cell_type": "code",
   "execution_count": 31,
   "id": "ab9990dee5fb89ed",
   "metadata": {
    "ExecuteTime": {
     "end_time": "2024-04-05T00:37:02.615027700Z",
     "start_time": "2024-04-05T00:37:02.113427500Z"
    },
    "collapsed": false,
    "jupyter": {
     "outputs_hidden": false
    }
   },
   "outputs": [
    {
     "data": {
      "text/html": [
       "<div>\n",
       "<style scoped>\n",
       "    .dataframe tbody tr th:only-of-type {\n",
       "        vertical-align: middle;\n",
       "    }\n",
       "\n",
       "    .dataframe tbody tr th {\n",
       "        vertical-align: top;\n",
       "    }\n",
       "\n",
       "    .dataframe thead th {\n",
       "        text-align: right;\n",
       "    }\n",
       "</style>\n",
       "<table border=\"1\" class=\"dataframe\">\n",
       "  <thead>\n",
       "    <tr style=\"text-align: right;\">\n",
       "      <th></th>\n",
       "      <th>Set</th>\n",
       "      <th>Count</th>\n",
       "    </tr>\n",
       "  </thead>\n",
       "  <tbody>\n",
       "    <tr>\n",
       "      <th>292</th>\n",
       "      <td>(29, 6)</td>\n",
       "      <td>39</td>\n",
       "    </tr>\n",
       "    <tr>\n",
       "      <th>2388</th>\n",
       "      <td>(39, 49)</td>\n",
       "      <td>38</td>\n",
       "    </tr>\n",
       "    <tr>\n",
       "      <th>1562</th>\n",
       "      <td>(17, 29)</td>\n",
       "      <td>38</td>\n",
       "    </tr>\n",
       "    <tr>\n",
       "      <th>4753</th>\n",
       "      <td>(38, 40)</td>\n",
       "      <td>38</td>\n",
       "    </tr>\n",
       "    <tr>\n",
       "      <th>790</th>\n",
       "      <td>(12, 8)</td>\n",
       "      <td>37</td>\n",
       "    </tr>\n",
       "    <tr>\n",
       "      <th>...</th>\n",
       "      <td>...</td>\n",
       "      <td>...</td>\n",
       "    </tr>\n",
       "    <tr>\n",
       "      <th>24019</th>\n",
       "      <td>(2, 21, 26, 38)</td>\n",
       "      <td>1</td>\n",
       "    </tr>\n",
       "    <tr>\n",
       "      <th>24020</th>\n",
       "      <td>(2, 21, 26, 47)</td>\n",
       "      <td>1</td>\n",
       "    </tr>\n",
       "    <tr>\n",
       "      <th>24021</th>\n",
       "      <td>(2, 21, 37, 38)</td>\n",
       "      <td>1</td>\n",
       "    </tr>\n",
       "    <tr>\n",
       "      <th>24022</th>\n",
       "      <td>(2, 21, 37, 47)</td>\n",
       "      <td>1</td>\n",
       "    </tr>\n",
       "    <tr>\n",
       "      <th>55101</th>\n",
       "      <td>(15, 16, 17, 34, 42, 45)</td>\n",
       "      <td>1</td>\n",
       "    </tr>\n",
       "  </tbody>\n",
       "</table>\n",
       "<p>55102 rows × 2 columns</p>\n",
       "</div>"
      ],
      "text/plain": [
       "                            Set  Count\n",
       "292                     (29, 6)     39\n",
       "2388                   (39, 49)     38\n",
       "1562                   (17, 29)     38\n",
       "4753                   (38, 40)     38\n",
       "790                     (12, 8)     37\n",
       "...                         ...    ...\n",
       "24019           (2, 21, 26, 38)      1\n",
       "24020           (2, 21, 26, 47)      1\n",
       "24021           (2, 21, 37, 38)      1\n",
       "24022           (2, 21, 37, 47)      1\n",
       "55101  (15, 16, 17, 34, 42, 45)      1\n",
       "\n",
       "[55102 rows x 2 columns]"
      ]
     },
     "execution_count": 31,
     "metadata": {},
     "output_type": "execute_result"
    }
   ],
   "source": [
    "most_common_number_string(lotto_plus)"
   ]
  },
  {
   "cell_type": "code",
   "execution_count": 15,
   "id": "6b82015cccff97d3",
   "metadata": {
    "ExecuteTime": {
     "end_time": "2024-04-05T00:37:04.609991600Z",
     "start_time": "2024-04-05T00:37:02.616027800Z"
    },
    "collapsed": false,
    "jupyter": {
     "outputs_hidden": false
    }
   },
   "outputs": [
    {
     "data": {
      "text/html": [
       "<div>\n",
       "<style scoped>\n",
       "    .dataframe tbody tr th:only-of-type {\n",
       "        vertical-align: middle;\n",
       "    }\n",
       "\n",
       "    .dataframe tbody tr th {\n",
       "        vertical-align: top;\n",
       "    }\n",
       "\n",
       "    .dataframe thead th {\n",
       "        text-align: right;\n",
       "    }\n",
       "</style>\n",
       "<table border=\"1\" class=\"dataframe\">\n",
       "  <thead>\n",
       "    <tr style=\"text-align: right;\">\n",
       "      <th></th>\n",
       "      <th>Set</th>\n",
       "      <th>Count</th>\n",
       "    </tr>\n",
       "  </thead>\n",
       "  <tbody>\n",
       "    <tr>\n",
       "      <th>178</th>\n",
       "      <td>(15, 21)</td>\n",
       "      <td>1518</td>\n",
       "    </tr>\n",
       "    <tr>\n",
       "      <th>543</th>\n",
       "      <td>(15, 30)</td>\n",
       "      <td>1435</td>\n",
       "    </tr>\n",
       "    <tr>\n",
       "      <th>921</th>\n",
       "      <td>(32, 7)</td>\n",
       "      <td>1368</td>\n",
       "    </tr>\n",
       "    <tr>\n",
       "      <th>2648</th>\n",
       "      <td>(2, 3)</td>\n",
       "      <td>1273</td>\n",
       "    </tr>\n",
       "    <tr>\n",
       "      <th>209</th>\n",
       "      <td>(22, 29)</td>\n",
       "      <td>1253</td>\n",
       "    </tr>\n",
       "    <tr>\n",
       "      <th>...</th>\n",
       "      <td>...</td>\n",
       "      <td>...</td>\n",
       "    </tr>\n",
       "    <tr>\n",
       "      <th>43232</th>\n",
       "      <td>(20, 27, 29, 31)</td>\n",
       "      <td>1</td>\n",
       "    </tr>\n",
       "    <tr>\n",
       "      <th>43233</th>\n",
       "      <td>(19, 20, 27, 29, 31)</td>\n",
       "      <td>1</td>\n",
       "    </tr>\n",
       "    <tr>\n",
       "      <th>43234</th>\n",
       "      <td>(2, 20, 26, 7)</td>\n",
       "      <td>1</td>\n",
       "    </tr>\n",
       "    <tr>\n",
       "      <th>43235</th>\n",
       "      <td>(2, 20, 31, 7)</td>\n",
       "      <td>1</td>\n",
       "    </tr>\n",
       "    <tr>\n",
       "      <th>46050</th>\n",
       "      <td>(10, 17, 25, 29, 8)</td>\n",
       "      <td>1</td>\n",
       "    </tr>\n",
       "  </tbody>\n",
       "</table>\n",
       "<p>46051 rows × 2 columns</p>\n",
       "</div>"
      ],
      "text/plain": [
       "                        Set  Count\n",
       "178                (15, 21)   1518\n",
       "543                (15, 30)   1435\n",
       "921                 (32, 7)   1368\n",
       "2648                 (2, 3)   1273\n",
       "209                (22, 29)   1253\n",
       "...                     ...    ...\n",
       "43232      (20, 27, 29, 31)      1\n",
       "43233  (19, 20, 27, 29, 31)      1\n",
       "43234        (2, 20, 26, 7)      1\n",
       "43235        (2, 20, 31, 7)      1\n",
       "46050   (10, 17, 25, 29, 8)      1\n",
       "\n",
       "[46051 rows x 2 columns]"
      ]
     },
     "execution_count": 15,
     "metadata": {},
     "output_type": "execute_result"
    }
   ],
   "source": [
    "most_common_number_string(mini_lotto)"
   ]
  },
  {
   "cell_type": "code",
   "execution_count": 16,
   "id": "32adfb6db268cd49",
   "metadata": {
    "ExecuteTime": {
     "end_time": "2024-04-05T00:37:04.895779200Z",
     "start_time": "2024-04-05T00:37:04.610988Z"
    },
    "collapsed": false,
    "jupyter": {
     "outputs_hidden": false
    }
   },
   "outputs": [
    {
     "name": "stdout",
     "output_type": "stream",
     "text": [
      "68\n"
     ]
    }
   ],
   "source": [
    "def test_most_common_number_string() -> None:\n",
    "    test_number_string = [15, 24, 27, 37, 46, 8]\n",
    "    test_number_set = set(test_number_string)\n",
    "\n",
    "    test_number_set = set(test_number_string)\n",
    "\n",
    "    def check_existence(row):\n",
    "        row_numbers = set(map(int, row.split(',')))\n",
    "        return test_number_set == row_numbers\n",
    "\n",
    "    test_existence = lotto['numbers'].apply(check_existence)\n",
    "    \n",
    "    count = test_existence.sum()\n",
    "    print(count)\n",
    "\n",
    "test_most_common_number_string()\n",
    "    "
   ]
  },
  {
   "cell_type": "code",
   "execution_count": 27,
   "id": "8327149d1907e856",
   "metadata": {
    "ExecuteTime": {
     "end_time": "2024-04-05T00:45:45.317578Z",
     "start_time": "2024-04-05T00:45:44.148976900Z"
    },
    "collapsed": false,
    "jupyter": {
     "outputs_hidden": false
    }
   },
   "outputs": [
    {
     "data": {
      "image/png": "[encoded data removed]",
      "text/plain": [
       "<Figure size 1000x600 with 1 Axes>"
      ]
     },
     "metadata": {},
     "output_type": "display_data"
    }
   ],
   "source": [
    "sets_df = data[:50]\n",
    "\n",
    "# Plotting\n",
    "plt.figure(figsize=(10, 6))\n",
    "plt.bar(range(len(sets_df)), sets_df['Count'], color='skyblue')\n",
    "plt.xlabel('Set Index')\n",
    "plt.ylabel('Count')\n",
    "plt.title('Counts of Common Number Sets')\n",
    "plt.xticks(range(len(sets_df)), sets_df['Set'], rotation=90)\n",
    "plt.tight_layout()\n",
    "plt.show()"
   ]
  }
 ],
 "metadata": {
  "kernelspec": {
   "display_name": "Python 3 (ipykernel)",
   "language": "python",
   "name": "python3"
  },
  "language_info": {
   "codemirror_mode": {
    "name": "ipython",
    "version": 3
   },
   "file_extension": ".py",
   "mimetype": "text/x-python",
   "name": "python",
   "nbconvert_exporter": "python",
   "pygments_lexer": "ipython3",
   "version": "3.12.0"
  }
 },
 "nbformat": 4,
 "nbformat_minor": 5
}
