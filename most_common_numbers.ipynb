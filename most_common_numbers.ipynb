{
 "cells": [
  {
   "cell_type": "code",
   "execution_count": 17,
   "id": "initial_id",
   "metadata": {
    "collapsed": true,
    "ExecuteTime": {
     "end_time": "2024-04-04T16:17:43.536066600Z",
     "start_time": "2024-04-04T16:17:43.532058100Z"
    }
   },
   "outputs": [],
   "source": [
    "import pandas as pd \n",
    "from typing import Dict, Optional, List"
   ]
  },
  {
   "cell_type": "code",
   "outputs": [
    {
     "name": "stdout",
     "output_type": "stream",
     "text": [
      "        number        date            numbers  szostka_count  szostka_value  \\\n",
      "0           47  22-12-1957   8,15,24,27,37,46              0            0.0   \n",
      "1           46  15-12-1957   7,12,19,36,42,49              0            0.0   \n",
      "2           45  08-12-1957  11,17,24,35,42,47              0            0.0   \n",
      "3           44  01-12-1957    5,8,14,26,32,44              0            0.0   \n",
      "4           43  24-11-1957    2,6,18,20,40,49              0            0.0   \n",
      "...        ...         ...                ...            ...            ...   \n",
      "201003    6986  11-01-2024   2,13,17,26,34,38              0            0.0   \n",
      "201004    6985  09-01-2024   4,19,20,23,28,48              0            0.0   \n",
      "201005    6984  06-01-2024      2,5,8,9,30,42              0            0.0   \n",
      "201006    6983  04-01-2024  10,25,26,28,44,46              0            0.0   \n",
      "201007    6982  02-01-2024  15,18,28,30,37,49              0            0.0   \n",
      "\n",
      "        piatka_count  piatka_value  czworka_count  czworka_value  \\\n",
      "0                  0           0.0              0            0.0   \n",
      "1                  0           0.0              0            0.0   \n",
      "2                  0           0.0              0            0.0   \n",
      "3                  0           0.0              0            0.0   \n",
      "4                  0           0.0              0            0.0   \n",
      "...              ...           ...            ...            ...   \n",
      "201003            81        3846.3           3775           99.6   \n",
      "201004            44        6444.4           2869          153.4   \n",
      "201005            52        5356.9           3203           97.6   \n",
      "201006            41        6255.7           2181          232.5   \n",
      "201007            25        8708.2           1818          252.4   \n",
      "\n",
      "        trojka_count  trojka_value  \n",
      "0                  0           0.0  \n",
      "1                  0           0.0  \n",
      "2                  0           0.0  \n",
      "3                  0           0.0  \n",
      "4                  0           0.0  \n",
      "...              ...           ...  \n",
      "201003         62224          24.0  \n",
      "201004         52554          24.0  \n",
      "201005         56621          24.0  \n",
      "201006         42999          24.0  \n",
      "201007         35307          24.0  \n",
      "\n",
      "[201008 rows x 11 columns]\n"
     ]
    }
   ],
   "source": [
    "lotto = pd.read_csv(\"./output/merged_lotto.csv\")\n",
    "lotto_plus = pd.read_csv(\"./output/merged_lottoplus.csv\")\n",
    "mini_lotto = pd.read_csv(\"./output/mini_lotto.csv\")\n",
    "\n",
    "print(lotto)"
   ],
   "metadata": {
    "collapsed": false,
    "ExecuteTime": {
     "end_time": "2024-04-04T16:15:01.804139600Z",
     "start_time": "2024-04-04T16:15:01.562296800Z"
    }
   },
   "id": "55bdfd3909b56059",
   "execution_count": 14
  },
  {
   "cell_type": "code",
   "outputs": [],
   "source": [
    "def get_all_numbers(dataset) -> List:\n",
    "    all_numbers = []\n",
    "    for numbers_str in dataset['numbers']:\n",
    "        numbers_list = numbers_str.split(',')\n",
    "        all_numbers.extend(map(int, numbers_list))\n",
    "    \n",
    "    return all_numbers"
   ],
   "metadata": {
    "collapsed": false,
    "ExecuteTime": {
     "end_time": "2024-04-04T16:17:45.685605200Z",
     "start_time": "2024-04-04T16:17:45.680594Z"
    }
   },
   "id": "3ac48e99e4cbdb0a",
   "execution_count": 18
  },
  {
   "cell_type": "code",
   "outputs": [
    {
     "data": {
      "text/plain": "    number  count\n16      17  26860\n26      27  26593\n33      34  26412\n20      21  25988\n30      31  25817\n23      24  25709",
      "text/html": "<div>\n<style scoped>\n    .dataframe tbody tr th:only-of-type {\n        vertical-align: middle;\n    }\n\n    .dataframe tbody tr th {\n        vertical-align: top;\n    }\n\n    .dataframe thead th {\n        text-align: right;\n    }\n</style>\n<table border=\"1\" class=\"dataframe\">\n  <thead>\n    <tr style=\"text-align: right;\">\n      <th></th>\n      <th>number</th>\n      <th>count</th>\n    </tr>\n  </thead>\n  <tbody>\n    <tr>\n      <th>16</th>\n      <td>17</td>\n      <td>26860</td>\n    </tr>\n    <tr>\n      <th>26</th>\n      <td>27</td>\n      <td>26593</td>\n    </tr>\n    <tr>\n      <th>33</th>\n      <td>34</td>\n      <td>26412</td>\n    </tr>\n    <tr>\n      <th>20</th>\n      <td>21</td>\n      <td>25988</td>\n    </tr>\n    <tr>\n      <th>30</th>\n      <td>31</td>\n      <td>25817</td>\n    </tr>\n    <tr>\n      <th>23</th>\n      <td>24</td>\n      <td>25709</td>\n    </tr>\n  </tbody>\n</table>\n</div>"
     },
     "execution_count": 19,
     "metadata": {},
     "output_type": "execute_result"
    }
   ],
   "source": [
    "\n",
    "\n",
    "def get_most_common_numbers(dataset, num_results: int = 6) -> Dict[Optional[int], Optional[int]]:\n",
    "    all_numbers = get_all_numbers(dataset)\n",
    "    \n",
    "    counts_df = pd.DataFrame(all_numbers, columns=['number']).groupby('number').size().reset_index(name='count')\n",
    "    \n",
    "    counts_df = counts_df.sort_values(by='count', ascending=False)\n",
    "    \n",
    "    return counts_df.head(num_results)\n"
   ],
   "metadata": {
    "collapsed": false,
    "ExecuteTime": {
     "end_time": "2024-04-04T16:17:47.615337800Z",
     "start_time": "2024-04-04T16:17:47.157382Z"
    }
   },
   "id": "978a8a359524f2d6",
   "execution_count": 19
  },
  {
   "cell_type": "code",
   "outputs": [
    {
     "name": "stdout",
     "output_type": "stream",
     "text": [
      "    number  count\n",
      "16      17  26860\n",
      "26      27  26593\n",
      "33      34  26412\n",
      "20      21  25988\n",
      "30      31  25817\n",
      "23      24  25709\n",
      "    number  count\n",
      "20      21   9943\n",
      "29      30   9834\n",
      "16      17   9809\n",
      "5        6   9628\n",
      "27      28   9614\n",
      "6        7   9546\n"
     ]
    }
   ],
   "source": [
    "lotto_common_numbers = get_most_common_numbers(lotto)\n",
    "print(lotto_common_numbers)\n",
    "# lotto_plus_common_numbers = get_most_common_numbers(lotto_plus)\n",
    "# print(lotto_common_numbers)"
   ],
   "metadata": {
    "collapsed": false,
    "ExecuteTime": {
     "end_time": "2024-04-04T16:19:09.846444300Z",
     "start_time": "2024-04-04T16:19:09.233601600Z"
    }
   },
   "id": "7478370db9931d86",
   "execution_count": 22
  },
  {
   "cell_type": "code",
   "outputs": [
    {
     "name": "stdout",
     "output_type": "stream",
     "text": [
      "    number  count\n",
      "20      21   9943\n",
      "29      30   9834\n",
      "16      17   9809\n",
      "5        6   9628\n",
      "27      28   9614\n",
      "6        7   9546\n"
     ]
    }
   ],
   "source": [
    "mini_lotto_common_numbers = get_most_common_numbers(mini_lotto)\n",
    "print(mini_lotto_common_numbers)"
   ],
   "metadata": {
    "collapsed": false,
    "ExecuteTime": {
     "end_time": "2024-04-04T16:19:18.216329700Z",
     "start_time": "2024-04-04T16:19:18.135813100Z"
    }
   },
   "id": "509ad229da69c3aa",
   "execution_count": 23
  },
  {
   "cell_type": "code",
   "outputs": [],
   "source": [
    " \n",
    "def get_most_common_numbers_by_year(dataset, num_result: int = 6):\n",
    "    dataset['year'] = pd.to_datetime(dataset['date'], format='%d-%m-%Y').dt.year\n",
    "    \n",
    "    result_df = pd.DataFrame(columns=['year', 'number', 'count'])\n",
    "    \n",
    "    for year, group in dataset.groupby('year'):\n",
    "        all_numbers = []\n",
    "        for numbers_str in group['numbers']:\n",
    "            numbers_list = numbers_str.split(',')\n",
    "            all_numbers.extend(map(int, numbers_list))\n",
    "        \n",
    "        counts_df = pd.DataFrame(all_numbers, columns=['number']).groupby('number').size().reset_index(name='count')\n",
    "        counts_df = counts_df.sort_values(by='count', ascending=False)\n",
    "        counts_df['year'] = year\n",
    "        result_df = pd.concat([result_df, counts_df.head(num_result)])\n",
    "    \n",
    "    return result_df\n"
   ],
   "metadata": {
    "collapsed": false,
    "ExecuteTime": {
     "end_time": "2024-04-04T16:21:58.490532Z",
     "start_time": "2024-04-04T16:21:58.487444500Z"
    }
   },
   "id": "7ab48a195f2a1c9a",
   "execution_count": 26
  },
  {
   "cell_type": "code",
   "outputs": [
    {
     "name": "stdout",
     "output_type": "stream",
     "text": [
      "    year number count\n",
      "7   1957      8   680\n",
      "18  1957     19   612\n",
      "12  1957     13   612\n",
      "31  1957     32   544\n",
      "47  1957     48   544\n",
      "..   ...    ...   ...\n",
      "1   2024      2     9\n",
      "25  2024     26     8\n",
      "11  2024     12     8\n",
      "43  2024     46     7\n",
      "27  2024     28     7\n",
      "\n",
      "[408 rows x 3 columns]\n"
     ]
    }
   ],
   "source": [
    "lotto_most_common_numbers_by_year = get_most_common_numbers_by_year(lotto)\n",
    "print(lotto_most_common_numbers_by_year)"
   ],
   "metadata": {
    "collapsed": false,
    "ExecuteTime": {
     "end_time": "2024-04-04T16:22:08.316903700Z",
     "start_time": "2024-04-04T16:22:07.658347Z"
    }
   },
   "id": "e926fe521cad3cbc",
   "execution_count": 28
  },
  {
   "cell_type": "code",
   "outputs": [
    {
     "ename": "KeyError",
     "evalue": "'date'",
     "output_type": "error",
     "traceback": [
      "\u001B[1;31m---------------------------------------------------------------------------\u001B[0m",
      "\u001B[1;31mKeyError\u001B[0m                                  Traceback (most recent call last)",
      "File \u001B[1;32m~\\Desktop\\Projects\\lotto-analytics\\.venv\\Lib\\site-packages\\pandas\\core\\indexes\\base.py:3805\u001B[0m, in \u001B[0;36mIndex.get_loc\u001B[1;34m(self, key)\u001B[0m\n\u001B[0;32m   3804\u001B[0m \u001B[38;5;28;01mtry\u001B[39;00m:\n\u001B[1;32m-> 3805\u001B[0m     \u001B[38;5;28;01mreturn\u001B[39;00m \u001B[38;5;28;43mself\u001B[39;49m\u001B[38;5;241;43m.\u001B[39;49m\u001B[43m_engine\u001B[49m\u001B[38;5;241;43m.\u001B[39;49m\u001B[43mget_loc\u001B[49m\u001B[43m(\u001B[49m\u001B[43mcasted_key\u001B[49m\u001B[43m)\u001B[49m\n\u001B[0;32m   3806\u001B[0m \u001B[38;5;28;01mexcept\u001B[39;00m \u001B[38;5;167;01mKeyError\u001B[39;00m \u001B[38;5;28;01mas\u001B[39;00m err:\n",
      "File \u001B[1;32mindex.pyx:167\u001B[0m, in \u001B[0;36mpandas._libs.index.IndexEngine.get_loc\u001B[1;34m()\u001B[0m\n",
      "File \u001B[1;32mindex.pyx:196\u001B[0m, in \u001B[0;36mpandas._libs.index.IndexEngine.get_loc\u001B[1;34m()\u001B[0m\n",
      "File \u001B[1;32mpandas\\\\_libs\\\\hashtable_class_helper.pxi:7081\u001B[0m, in \u001B[0;36mpandas._libs.hashtable.PyObjectHashTable.get_item\u001B[1;34m()\u001B[0m\n",
      "File \u001B[1;32mpandas\\\\_libs\\\\hashtable_class_helper.pxi:7089\u001B[0m, in \u001B[0;36mpandas._libs.hashtable.PyObjectHashTable.get_item\u001B[1;34m()\u001B[0m\n",
      "\u001B[1;31mKeyError\u001B[0m: 'date'",
      "\nThe above exception was the direct cause of the following exception:\n",
      "\u001B[1;31mKeyError\u001B[0m                                  Traceback (most recent call last)",
      "Cell \u001B[1;32mIn[30], line 1\u001B[0m\n\u001B[1;32m----> 1\u001B[0m lotto_plus_most_common_numbers_by_year \u001B[38;5;241m=\u001B[39m \u001B[43mget_most_common_numbers_by_year\u001B[49m\u001B[43m(\u001B[49m\u001B[43mlotto_plus\u001B[49m\u001B[43m)\u001B[49m\n\u001B[0;32m      2\u001B[0m \u001B[38;5;28mprint\u001B[39m(lotto_plus_most_common_numbers_by_year)\n",
      "Cell \u001B[1;32mIn[26], line 2\u001B[0m, in \u001B[0;36mget_most_common_numbers_by_year\u001B[1;34m(dataset, num_result)\u001B[0m\n\u001B[0;32m      1\u001B[0m \u001B[38;5;28;01mdef\u001B[39;00m \u001B[38;5;21mget_most_common_numbers_by_year\u001B[39m(dataset, num_result: \u001B[38;5;28mint\u001B[39m \u001B[38;5;241m=\u001B[39m \u001B[38;5;241m6\u001B[39m):\n\u001B[1;32m----> 2\u001B[0m     dataset[\u001B[38;5;124m'\u001B[39m\u001B[38;5;124myear\u001B[39m\u001B[38;5;124m'\u001B[39m] \u001B[38;5;241m=\u001B[39m pd\u001B[38;5;241m.\u001B[39mto_datetime(\u001B[43mdataset\u001B[49m\u001B[43m[\u001B[49m\u001B[38;5;124;43m'\u001B[39;49m\u001B[38;5;124;43mdate\u001B[39;49m\u001B[38;5;124;43m'\u001B[39;49m\u001B[43m]\u001B[49m, \u001B[38;5;28mformat\u001B[39m\u001B[38;5;241m=\u001B[39m\u001B[38;5;124m'\u001B[39m\u001B[38;5;132;01m%d\u001B[39;00m\u001B[38;5;124m-\u001B[39m\u001B[38;5;124m%\u001B[39m\u001B[38;5;124mm-\u001B[39m\u001B[38;5;124m%\u001B[39m\u001B[38;5;124mY\u001B[39m\u001B[38;5;124m'\u001B[39m)\u001B[38;5;241m.\u001B[39mdt\u001B[38;5;241m.\u001B[39myear\n\u001B[0;32m      4\u001B[0m     result_df \u001B[38;5;241m=\u001B[39m pd\u001B[38;5;241m.\u001B[39mDataFrame(columns\u001B[38;5;241m=\u001B[39m[\u001B[38;5;124m'\u001B[39m\u001B[38;5;124myear\u001B[39m\u001B[38;5;124m'\u001B[39m, \u001B[38;5;124m'\u001B[39m\u001B[38;5;124mnumber\u001B[39m\u001B[38;5;124m'\u001B[39m, \u001B[38;5;124m'\u001B[39m\u001B[38;5;124mcount\u001B[39m\u001B[38;5;124m'\u001B[39m])\n\u001B[0;32m      6\u001B[0m     \u001B[38;5;28;01mfor\u001B[39;00m year, group \u001B[38;5;129;01min\u001B[39;00m dataset\u001B[38;5;241m.\u001B[39mgroupby(\u001B[38;5;124m'\u001B[39m\u001B[38;5;124myear\u001B[39m\u001B[38;5;124m'\u001B[39m):\n",
      "File \u001B[1;32m~\\Desktop\\Projects\\lotto-analytics\\.venv\\Lib\\site-packages\\pandas\\core\\frame.py:4090\u001B[0m, in \u001B[0;36mDataFrame.__getitem__\u001B[1;34m(self, key)\u001B[0m\n\u001B[0;32m   4088\u001B[0m \u001B[38;5;28;01mif\u001B[39;00m \u001B[38;5;28mself\u001B[39m\u001B[38;5;241m.\u001B[39mcolumns\u001B[38;5;241m.\u001B[39mnlevels \u001B[38;5;241m>\u001B[39m \u001B[38;5;241m1\u001B[39m:\n\u001B[0;32m   4089\u001B[0m     \u001B[38;5;28;01mreturn\u001B[39;00m \u001B[38;5;28mself\u001B[39m\u001B[38;5;241m.\u001B[39m_getitem_multilevel(key)\n\u001B[1;32m-> 4090\u001B[0m indexer \u001B[38;5;241m=\u001B[39m \u001B[38;5;28;43mself\u001B[39;49m\u001B[38;5;241;43m.\u001B[39;49m\u001B[43mcolumns\u001B[49m\u001B[38;5;241;43m.\u001B[39;49m\u001B[43mget_loc\u001B[49m\u001B[43m(\u001B[49m\u001B[43mkey\u001B[49m\u001B[43m)\u001B[49m\n\u001B[0;32m   4091\u001B[0m \u001B[38;5;28;01mif\u001B[39;00m is_integer(indexer):\n\u001B[0;32m   4092\u001B[0m     indexer \u001B[38;5;241m=\u001B[39m [indexer]\n",
      "File \u001B[1;32m~\\Desktop\\Projects\\lotto-analytics\\.venv\\Lib\\site-packages\\pandas\\core\\indexes\\base.py:3812\u001B[0m, in \u001B[0;36mIndex.get_loc\u001B[1;34m(self, key)\u001B[0m\n\u001B[0;32m   3807\u001B[0m     \u001B[38;5;28;01mif\u001B[39;00m \u001B[38;5;28misinstance\u001B[39m(casted_key, \u001B[38;5;28mslice\u001B[39m) \u001B[38;5;129;01mor\u001B[39;00m (\n\u001B[0;32m   3808\u001B[0m         \u001B[38;5;28misinstance\u001B[39m(casted_key, abc\u001B[38;5;241m.\u001B[39mIterable)\n\u001B[0;32m   3809\u001B[0m         \u001B[38;5;129;01mand\u001B[39;00m \u001B[38;5;28many\u001B[39m(\u001B[38;5;28misinstance\u001B[39m(x, \u001B[38;5;28mslice\u001B[39m) \u001B[38;5;28;01mfor\u001B[39;00m x \u001B[38;5;129;01min\u001B[39;00m casted_key)\n\u001B[0;32m   3810\u001B[0m     ):\n\u001B[0;32m   3811\u001B[0m         \u001B[38;5;28;01mraise\u001B[39;00m InvalidIndexError(key)\n\u001B[1;32m-> 3812\u001B[0m     \u001B[38;5;28;01mraise\u001B[39;00m \u001B[38;5;167;01mKeyError\u001B[39;00m(key) \u001B[38;5;28;01mfrom\u001B[39;00m \u001B[38;5;21;01merr\u001B[39;00m\n\u001B[0;32m   3813\u001B[0m \u001B[38;5;28;01mexcept\u001B[39;00m \u001B[38;5;167;01mTypeError\u001B[39;00m:\n\u001B[0;32m   3814\u001B[0m     \u001B[38;5;66;03m# If we have a listlike key, _check_indexing_error will raise\u001B[39;00m\n\u001B[0;32m   3815\u001B[0m     \u001B[38;5;66;03m#  InvalidIndexError. Otherwise we fall through and re-raise\u001B[39;00m\n\u001B[0;32m   3816\u001B[0m     \u001B[38;5;66;03m#  the TypeError.\u001B[39;00m\n\u001B[0;32m   3817\u001B[0m     \u001B[38;5;28mself\u001B[39m\u001B[38;5;241m.\u001B[39m_check_indexing_error(key)\n",
      "\u001B[1;31mKeyError\u001B[0m: 'date'"
     ]
    }
   ],
   "source": [
    "# lotto_plus_most_common_numbers_by_year = get_most_common_numbers_by_year(lotto_plus)\n",
    "# print(lotto_plus_most_common_numbers_by_year)"
   ],
   "metadata": {
    "collapsed": false,
    "ExecuteTime": {
     "end_time": "2024-04-04T16:24:07.048338100Z",
     "start_time": "2024-04-04T16:24:07.008229500Z"
    }
   },
   "id": "e77c4539e369ca1d",
   "execution_count": 30
  },
  {
   "cell_type": "code",
   "outputs": [
    {
     "name": "stdout",
     "output_type": "stream",
     "text": [
      "    year number count\n",
      "25  1981     26   462\n",
      "4   1981      5   462\n",
      "33  1981     34   420\n",
      "29  1981     30   378\n",
      "14  1981     15   336\n",
      "..   ...    ...   ...\n",
      "40  2024     41    18\n",
      "17  2024     18    18\n",
      "27  2024     28    16\n",
      "30  2024     31    15\n",
      "25  2024     26    15\n",
      "\n",
      "[258 rows x 3 columns]\n"
     ]
    }
   ],
   "source": [
    "mini_lotto_most_common_numbers_by_year = get_most_common_numbers_by_year(mini_lotto)\n",
    "print(mini_lotto_most_common_numbers_by_year)"
   ],
   "metadata": {
    "collapsed": false,
    "ExecuteTime": {
     "end_time": "2024-04-04T16:24:05.234142Z",
     "start_time": "2024-04-04T16:24:05.030594400Z"
    }
   },
   "id": "da08b2b143697204",
   "execution_count": 29
  }
 ],
 "metadata": {
  "kernelspec": {
   "display_name": "Python 3",
   "language": "python",
   "name": "python3"
  },
  "language_info": {
   "codemirror_mode": {
    "name": "ipython",
    "version": 2
   },
   "file_extension": ".py",
   "mimetype": "text/x-python",
   "name": "python",
   "nbconvert_exporter": "python",
   "pygments_lexer": "ipython2",
   "version": "2.7.6"
  }
 },
 "nbformat": 4,
 "nbformat_minor": 5
}
