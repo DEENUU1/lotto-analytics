{
 "cells": [
  {
   "cell_type": "code",
   "execution_count": 17,
   "id": "initial_id",
   "metadata": {
    "collapsed": true,
    "ExecuteTime": {
     "end_time": "2024-04-04T16:17:43.536066600Z",
     "start_time": "2024-04-04T16:17:43.532058100Z"
    }
   },
   "outputs": [],
   "source": [
    "import pandas as pd \n",
    "from typing import Dict, Optional, List"
   ]
  },
  {
   "cell_type": "code",
   "outputs": [
    {
     "name": "stdout",
     "output_type": "stream",
     "text": [
      "        number        date            numbers  szostka_count  szostka_value  \\\n",
      "0           47  22-12-1957   8,15,24,27,37,46              0            0.0   \n",
      "1           46  15-12-1957   7,12,19,36,42,49              0            0.0   \n",
      "2           45  08-12-1957  11,17,24,35,42,47              0            0.0   \n",
      "3           44  01-12-1957    5,8,14,26,32,44              0            0.0   \n",
      "4           43  24-11-1957    2,6,18,20,40,49              0            0.0   \n",
      "...        ...         ...                ...            ...            ...   \n",
      "201003    6986  11-01-2024   2,13,17,26,34,38              0            0.0   \n",
      "201004    6985  09-01-2024   4,19,20,23,28,48              0            0.0   \n",
      "201005    6984  06-01-2024      2,5,8,9,30,42              0            0.0   \n",
      "201006    6983  04-01-2024  10,25,26,28,44,46              0            0.0   \n",
      "201007    6982  02-01-2024  15,18,28,30,37,49              0            0.0   \n",
      "\n",
      "        piatka_count  piatka_value  czworka_count  czworka_value  \\\n",
      "0                  0           0.0              0            0.0   \n",
      "1                  0           0.0              0            0.0   \n",
      "2                  0           0.0              0            0.0   \n",
      "3                  0           0.0              0            0.0   \n",
      "4                  0           0.0              0            0.0   \n",
      "...              ...           ...            ...            ...   \n",
      "201003            81        3846.3           3775           99.6   \n",
      "201004            44        6444.4           2869          153.4   \n",
      "201005            52        5356.9           3203           97.6   \n",
      "201006            41        6255.7           2181          232.5   \n",
      "201007            25        8708.2           1818          252.4   \n",
      "\n",
      "        trojka_count  trojka_value  \n",
      "0                  0           0.0  \n",
      "1                  0           0.0  \n",
      "2                  0           0.0  \n",
      "3                  0           0.0  \n",
      "4                  0           0.0  \n",
      "...              ...           ...  \n",
      "201003         62224          24.0  \n",
      "201004         52554          24.0  \n",
      "201005         56621          24.0  \n",
      "201006         42999          24.0  \n",
      "201007         35307          24.0  \n",
      "\n",
      "[201008 rows x 11 columns]\n"
     ]
    }
   ],
   "source": [
    "lotto = pd.read_csv(\"./output/merged_lotto.csv\")\n",
    "lotto_plus = pd.read_csv(\"./output/merged_lottoplus.csv\")\n",
    "mini_lotto = pd.read_csv(\"./output/mini_lotto.csv\")\n",
    "\n",
    "print(lotto)"
   ],
   "metadata": {
    "collapsed": false,
    "ExecuteTime": {
     "end_time": "2024-04-04T16:15:01.804139600Z",
     "start_time": "2024-04-04T16:15:01.562296800Z"
    }
   },
   "id": "55bdfd3909b56059",
   "execution_count": 14
  },
  {
   "cell_type": "code",
   "outputs": [],
   "source": [
    "def get_all_numbers(dataset) -> List:\n",
    "    all_numbers = []\n",
    "    for numbers_str in dataset['numbers']:\n",
    "        numbers_list = numbers_str.split(',')\n",
    "        all_numbers.extend(map(int, numbers_list))\n",
    "    \n",
    "    return all_numbers"
   ],
   "metadata": {
    "collapsed": false,
    "ExecuteTime": {
     "end_time": "2024-04-04T16:17:45.685605200Z",
     "start_time": "2024-04-04T16:17:45.680594Z"
    }
   },
   "id": "3ac48e99e4cbdb0a",
   "execution_count": 18
  },
  {
   "cell_type": "code",
   "outputs": [
    {
     "data": {
      "text/plain": "    number  count\n16      17  26860\n26      27  26593\n33      34  26412\n20      21  25988\n30      31  25817\n23      24  25709",
      "text/html": "<div>\n<style scoped>\n    .dataframe tbody tr th:only-of-type {\n        vertical-align: middle;\n    }\n\n    .dataframe tbody tr th {\n        vertical-align: top;\n    }\n\n    .dataframe thead th {\n        text-align: right;\n    }\n</style>\n<table border=\"1\" class=\"dataframe\">\n  <thead>\n    <tr style=\"text-align: right;\">\n      <th></th>\n      <th>number</th>\n      <th>count</th>\n    </tr>\n  </thead>\n  <tbody>\n    <tr>\n      <th>16</th>\n      <td>17</td>\n      <td>26860</td>\n    </tr>\n    <tr>\n      <th>26</th>\n      <td>27</td>\n      <td>26593</td>\n    </tr>\n    <tr>\n      <th>33</th>\n      <td>34</td>\n      <td>26412</td>\n    </tr>\n    <tr>\n      <th>20</th>\n      <td>21</td>\n      <td>25988</td>\n    </tr>\n    <tr>\n      <th>30</th>\n      <td>31</td>\n      <td>25817</td>\n    </tr>\n    <tr>\n      <th>23</th>\n      <td>24</td>\n      <td>25709</td>\n    </tr>\n  </tbody>\n</table>\n</div>"
     },
     "execution_count": 19,
     "metadata": {},
     "output_type": "execute_result"
    }
   ],
   "source": [
    "\n",
    "\n",
    "def get_most_common_numbers(dataset, num_results: int = 6) -> Dict[Optional[int], Optional[int]]:\n",
    "    all_numbers = get_all_numbers(dataset)\n",
    "    \n",
    "    counts_df = pd.DataFrame(all_numbers, columns=['number']).groupby('number').size().reset_index(name='count')\n",
    "    \n",
    "    counts_df = counts_df.sort_values(by='count', ascending=False)\n",
    "    \n",
    "    return counts_df.head(num_results)\n"
   ],
   "metadata": {
    "collapsed": false,
    "ExecuteTime": {
     "end_time": "2024-04-04T16:17:47.615337800Z",
     "start_time": "2024-04-04T16:17:47.157382Z"
    }
   },
   "id": "978a8a359524f2d6",
   "execution_count": 19
  },
  {
   "cell_type": "code",
   "outputs": [
    {
     "name": "stdout",
     "output_type": "stream",
     "text": [
      "    number  count\n",
      "16      17  26860\n",
      "26      27  26593\n",
      "33      34  26412\n",
      "20      21  25988\n",
      "30      31  25817\n",
      "23      24  25709\n",
      "    number  count\n",
      "20      21   9943\n",
      "29      30   9834\n",
      "16      17   9809\n",
      "5        6   9628\n",
      "27      28   9614\n",
      "6        7   9546\n"
     ]
    }
   ],
   "source": [
    "lotto_common_numbers = get_most_common_numbers(lotto)\n",
    "print(lotto_common_numbers)\n",
    "# lotto_plus_common_numbers = get_most_common_numbers(lotto_plus)\n",
    "# print(lotto_common_numbers)"
   ],
   "metadata": {
    "collapsed": false,
    "ExecuteTime": {
     "end_time": "2024-04-04T16:19:09.846444300Z",
     "start_time": "2024-04-04T16:19:09.233601600Z"
    }
   },
   "id": "7478370db9931d86",
   "execution_count": 22
  },
  {
   "cell_type": "code",
   "outputs": [
    {
     "name": "stdout",
     "output_type": "stream",
     "text": [
      "    number  count\n",
      "20      21   9943\n",
      "29      30   9834\n",
      "16      17   9809\n",
      "5        6   9628\n",
      "27      28   9614\n",
      "6        7   9546\n"
     ]
    }
   ],
   "source": [
    "mini_lotto_common_numbers = get_most_common_numbers(mini_lotto)\n",
    "print(mini_lotto_common_numbers)"
   ],
   "metadata": {
    "collapsed": false,
    "ExecuteTime": {
     "end_time": "2024-04-04T16:19:18.216329700Z",
     "start_time": "2024-04-04T16:19:18.135813100Z"
    }
   },
   "id": "509ad229da69c3aa",
   "execution_count": 23
  }
 ],
 "metadata": {
  "kernelspec": {
   "display_name": "Python 3",
   "language": "python",
   "name": "python3"
  },
  "language_info": {
   "codemirror_mode": {
    "name": "ipython",
    "version": 2
   },
   "file_extension": ".py",
   "mimetype": "text/x-python",
   "name": "python",
   "nbconvert_exporter": "python",
   "pygments_lexer": "ipython2",
   "version": "2.7.6"
  }
 },
 "nbformat": 4,
 "nbformat_minor": 5
}
