{
 "cells": [
  {
   "cell_type": "code",
   "execution_count": 3,
   "id": "initial_id",
   "metadata": {
    "ExecuteTime": {
     "end_time": "2024-04-04T23:40:06.348053400Z",
     "start_time": "2024-04-04T23:40:05.194037600Z"
    }
   },
   "outputs": [],
   "source": [
    "import pandas as pd \n",
    "from typing import Dict, Optional, List\n",
    "from collections import Counter"
   ]
  },
  {
   "cell_type": "code",
   "execution_count": 4,
   "id": "55bdfd3909b56059",
   "metadata": {
    "collapsed": false,
    "ExecuteTime": {
     "end_time": "2024-04-04T23:40:06.890326800Z",
     "start_time": "2024-04-04T23:40:06.349045800Z"
    }
   },
   "outputs": [
    {
     "name": "stdout",
     "output_type": "stream",
     "text": [
      "        number        date            numbers  szostka_count  szostka_value  \\\n",
      "0           47  22-12-1957   8,15,24,27,37,46              0            0.0   \n",
      "1           46  15-12-1957   7,12,19,36,42,49              0            0.0   \n",
      "2           45  08-12-1957  11,17,24,35,42,47              0            0.0   \n",
      "3           44  01-12-1957    5,8,14,26,32,44              0            0.0   \n",
      "4           43  24-11-1957    2,6,18,20,40,49              0            0.0   \n",
      "...        ...         ...                ...            ...            ...   \n",
      "201003    6986  11-01-2024   2,13,17,26,34,38              0            0.0   \n",
      "201004    6985  09-01-2024   4,19,20,23,28,48              0            0.0   \n",
      "201005    6984  06-01-2024      2,5,8,9,30,42              0            0.0   \n",
      "201006    6983  04-01-2024  10,25,26,28,44,46              0            0.0   \n",
      "201007    6982  02-01-2024  15,18,28,30,37,49              0            0.0   \n",
      "\n",
      "        piatka_count  piatka_value  czworka_count  czworka_value  \\\n",
      "0                  0           0.0              0            0.0   \n",
      "1                  0           0.0              0            0.0   \n",
      "2                  0           0.0              0            0.0   \n",
      "3                  0           0.0              0            0.0   \n",
      "4                  0           0.0              0            0.0   \n",
      "...              ...           ...            ...            ...   \n",
      "201003            81        3846.3           3775           99.6   \n",
      "201004            44        6444.4           2869          153.4   \n",
      "201005            52        5356.9           3203           97.6   \n",
      "201006            41        6255.7           2181          232.5   \n",
      "201007            25        8708.2           1818          252.4   \n",
      "\n",
      "        trojka_count  trojka_value  \n",
      "0                  0           0.0  \n",
      "1                  0           0.0  \n",
      "2                  0           0.0  \n",
      "3                  0           0.0  \n",
      "4                  0           0.0  \n",
      "...              ...           ...  \n",
      "201003         62224          24.0  \n",
      "201004         52554          24.0  \n",
      "201005         56621          24.0  \n",
      "201006         42999          24.0  \n",
      "201007         35307          24.0  \n",
      "\n",
      "[201008 rows x 11 columns]\n"
     ]
    }
   ],
   "source": [
    "lotto = pd.read_csv(\"./output/merged_lotto.csv\")\n",
    "lotto_plus = pd.read_csv(\"./output/merged_lottoplus.csv\")\n",
    "mini_lotto = pd.read_csv(\"./output/mini_lotto.csv\")\n",
    "\n",
    "print(lotto)"
   ]
  },
  {
   "cell_type": "code",
   "execution_count": 5,
   "id": "3ac48e99e4cbdb0a",
   "metadata": {
    "collapsed": false,
    "ExecuteTime": {
     "end_time": "2024-04-04T23:40:06.892328500Z",
     "start_time": "2024-04-04T23:40:06.883852700Z"
    }
   },
   "outputs": [],
   "source": [
    "def get_all_numbers(dataset) -> List:\n",
    "    all_numbers = []\n",
    "    for numbers_str in dataset['numbers']:\n",
    "        numbers_list = numbers_str.split(',')\n",
    "        all_numbers.extend(map(int, numbers_list))\n",
    "    \n",
    "    return all_numbers"
   ]
  },
  {
   "cell_type": "code",
   "execution_count": 6,
   "id": "978a8a359524f2d6",
   "metadata": {
    "collapsed": false,
    "ExecuteTime": {
     "end_time": "2024-04-04T23:40:06.908011400Z",
     "start_time": "2024-04-04T23:40:06.894326500Z"
    }
   },
   "outputs": [],
   "source": [
    "\n",
    "\n",
    "def get_most_common_numbers(dataset, num_results: int = 6) -> Dict[Optional[int], Optional[int]]:\n",
    "    all_numbers = get_all_numbers(dataset)\n",
    "    \n",
    "    counts_df = pd.DataFrame(all_numbers, columns=['number']).groupby('number').size().reset_index(name='count')\n",
    "    \n",
    "    counts_df = counts_df.sort_values(by='count', ascending=False)\n",
    "    \n",
    "    return counts_df.head(num_results)\n"
   ]
  },
  {
   "cell_type": "code",
   "execution_count": 7,
   "id": "7478370db9931d86",
   "metadata": {
    "collapsed": false,
    "ExecuteTime": {
     "end_time": "2024-04-04T23:40:07.656025500Z",
     "start_time": "2024-04-04T23:40:06.900007700Z"
    }
   },
   "outputs": [
    {
     "data": {
      "text/plain": "    number  count\n16      17  26860\n26      27  26593\n33      34  26412\n20      21  25988\n30      31  25817\n23      24  25709",
      "text/html": "<div>\n<style scoped>\n    .dataframe tbody tr th:only-of-type {\n        vertical-align: middle;\n    }\n\n    .dataframe tbody tr th {\n        vertical-align: top;\n    }\n\n    .dataframe thead th {\n        text-align: right;\n    }\n</style>\n<table border=\"1\" class=\"dataframe\">\n  <thead>\n    <tr style=\"text-align: right;\">\n      <th></th>\n      <th>number</th>\n      <th>count</th>\n    </tr>\n  </thead>\n  <tbody>\n    <tr>\n      <th>16</th>\n      <td>17</td>\n      <td>26860</td>\n    </tr>\n    <tr>\n      <th>26</th>\n      <td>27</td>\n      <td>26593</td>\n    </tr>\n    <tr>\n      <th>33</th>\n      <td>34</td>\n      <td>26412</td>\n    </tr>\n    <tr>\n      <th>20</th>\n      <td>21</td>\n      <td>25988</td>\n    </tr>\n    <tr>\n      <th>30</th>\n      <td>31</td>\n      <td>25817</td>\n    </tr>\n    <tr>\n      <th>23</th>\n      <td>24</td>\n      <td>25709</td>\n    </tr>\n  </tbody>\n</table>\n</div>"
     },
     "execution_count": 7,
     "metadata": {},
     "output_type": "execute_result"
    }
   ],
   "source": [
    "get_most_common_numbers(lotto)"
   ]
  },
  {
   "cell_type": "code",
   "execution_count": 8,
   "id": "b59cd499-3afa-4cc8-9a8a-56849d5330f1",
   "metadata": {
    "ExecuteTime": {
     "end_time": "2024-04-04T23:40:07.740141100Z",
     "start_time": "2024-04-04T23:40:07.653026500Z"
    }
   },
   "outputs": [
    {
     "data": {
      "text/plain": "    number  count\n7        8   1811\n39      40   1806\n38      39   1765\n43      44   1746\n28      29   1744\n15      16   1724",
      "text/html": "<div>\n<style scoped>\n    .dataframe tbody tr th:only-of-type {\n        vertical-align: middle;\n    }\n\n    .dataframe tbody tr th {\n        vertical-align: top;\n    }\n\n    .dataframe thead th {\n        text-align: right;\n    }\n</style>\n<table border=\"1\" class=\"dataframe\">\n  <thead>\n    <tr style=\"text-align: right;\">\n      <th></th>\n      <th>number</th>\n      <th>count</th>\n    </tr>\n  </thead>\n  <tbody>\n    <tr>\n      <th>7</th>\n      <td>8</td>\n      <td>1811</td>\n    </tr>\n    <tr>\n      <th>39</th>\n      <td>40</td>\n      <td>1806</td>\n    </tr>\n    <tr>\n      <th>38</th>\n      <td>39</td>\n      <td>1765</td>\n    </tr>\n    <tr>\n      <th>43</th>\n      <td>44</td>\n      <td>1746</td>\n    </tr>\n    <tr>\n      <th>28</th>\n      <td>29</td>\n      <td>1744</td>\n    </tr>\n    <tr>\n      <th>15</th>\n      <td>16</td>\n      <td>1724</td>\n    </tr>\n  </tbody>\n</table>\n</div>"
     },
     "execution_count": 8,
     "metadata": {},
     "output_type": "execute_result"
    }
   ],
   "source": [
    "get_most_common_numbers(lotto_plus)"
   ]
  },
  {
   "cell_type": "code",
   "execution_count": 9,
   "id": "509ad229da69c3aa",
   "metadata": {
    "collapsed": false,
    "ExecuteTime": {
     "end_time": "2024-04-04T23:40:07.956256100Z",
     "start_time": "2024-04-04T23:40:07.701137700Z"
    }
   },
   "outputs": [
    {
     "data": {
      "text/plain": "    number  count\n20      21   9943\n29      30   9834\n16      17   9809\n5        6   9628\n27      28   9614\n6        7   9546",
      "text/html": "<div>\n<style scoped>\n    .dataframe tbody tr th:only-of-type {\n        vertical-align: middle;\n    }\n\n    .dataframe tbody tr th {\n        vertical-align: top;\n    }\n\n    .dataframe thead th {\n        text-align: right;\n    }\n</style>\n<table border=\"1\" class=\"dataframe\">\n  <thead>\n    <tr style=\"text-align: right;\">\n      <th></th>\n      <th>number</th>\n      <th>count</th>\n    </tr>\n  </thead>\n  <tbody>\n    <tr>\n      <th>20</th>\n      <td>21</td>\n      <td>9943</td>\n    </tr>\n    <tr>\n      <th>29</th>\n      <td>30</td>\n      <td>9834</td>\n    </tr>\n    <tr>\n      <th>16</th>\n      <td>17</td>\n      <td>9809</td>\n    </tr>\n    <tr>\n      <th>5</th>\n      <td>6</td>\n      <td>9628</td>\n    </tr>\n    <tr>\n      <th>27</th>\n      <td>28</td>\n      <td>9614</td>\n    </tr>\n    <tr>\n      <th>6</th>\n      <td>7</td>\n      <td>9546</td>\n    </tr>\n  </tbody>\n</table>\n</div>"
     },
     "execution_count": 9,
     "metadata": {},
     "output_type": "execute_result"
    }
   ],
   "source": [
    "get_most_common_numbers(mini_lotto)"
   ]
  },
  {
   "cell_type": "code",
   "execution_count": 10,
   "id": "7ab48a195f2a1c9a",
   "metadata": {
    "collapsed": false,
    "ExecuteTime": {
     "end_time": "2024-04-04T23:40:07.963253200Z",
     "start_time": "2024-04-04T23:40:07.920256300Z"
    }
   },
   "outputs": [],
   "source": [
    " \n",
    "def get_most_common_numbers_by_year(dataset, num_result: int = 6):\n",
    "    dataset['year'] = pd.to_datetime(dataset['date'], format='%d-%m-%Y').dt.year\n",
    "    \n",
    "    result_df = pd.DataFrame(columns=['year', 'number', 'count'])\n",
    "    \n",
    "    for year, group in dataset.groupby('year'):\n",
    "        all_numbers = []\n",
    "        for numbers_str in group['numbers']:\n",
    "            numbers_list = numbers_str.split(',')\n",
    "            all_numbers.extend(map(int, numbers_list))\n",
    "        \n",
    "        counts_df = pd.DataFrame(all_numbers, columns=['number']).groupby('number').size().reset_index(name='count')\n",
    "        counts_df = counts_df.sort_values(by='count', ascending=False)\n",
    "        counts_df['year'] = year\n",
    "        result_df = pd.concat([result_df, counts_df.head(num_result)])\n",
    "    \n",
    "    return result_df\n"
   ]
  },
  {
   "cell_type": "code",
   "execution_count": 11,
   "id": "e926fe521cad3cbc",
   "metadata": {
    "collapsed": false,
    "ExecuteTime": {
     "end_time": "2024-04-04T23:40:09.137878400Z",
     "start_time": "2024-04-04T23:40:07.926256Z"
    }
   },
   "outputs": [
    {
     "data": {
      "text/plain": "    year number count\n7   1957      8   680\n18  1957     19   612\n12  1957     13   612\n31  1957     32   544\n47  1957     48   544\n..   ...    ...   ...\n1   2024      2     9\n25  2024     26     8\n11  2024     12     8\n43  2024     46     7\n27  2024     28     7\n\n[408 rows x 3 columns]",
      "text/html": "<div>\n<style scoped>\n    .dataframe tbody tr th:only-of-type {\n        vertical-align: middle;\n    }\n\n    .dataframe tbody tr th {\n        vertical-align: top;\n    }\n\n    .dataframe thead th {\n        text-align: right;\n    }\n</style>\n<table border=\"1\" class=\"dataframe\">\n  <thead>\n    <tr style=\"text-align: right;\">\n      <th></th>\n      <th>year</th>\n      <th>number</th>\n      <th>count</th>\n    </tr>\n  </thead>\n  <tbody>\n    <tr>\n      <th>7</th>\n      <td>1957</td>\n      <td>8</td>\n      <td>680</td>\n    </tr>\n    <tr>\n      <th>18</th>\n      <td>1957</td>\n      <td>19</td>\n      <td>612</td>\n    </tr>\n    <tr>\n      <th>12</th>\n      <td>1957</td>\n      <td>13</td>\n      <td>612</td>\n    </tr>\n    <tr>\n      <th>31</th>\n      <td>1957</td>\n      <td>32</td>\n      <td>544</td>\n    </tr>\n    <tr>\n      <th>47</th>\n      <td>1957</td>\n      <td>48</td>\n      <td>544</td>\n    </tr>\n    <tr>\n      <th>...</th>\n      <td>...</td>\n      <td>...</td>\n      <td>...</td>\n    </tr>\n    <tr>\n      <th>1</th>\n      <td>2024</td>\n      <td>2</td>\n      <td>9</td>\n    </tr>\n    <tr>\n      <th>25</th>\n      <td>2024</td>\n      <td>26</td>\n      <td>8</td>\n    </tr>\n    <tr>\n      <th>11</th>\n      <td>2024</td>\n      <td>12</td>\n      <td>8</td>\n    </tr>\n    <tr>\n      <th>43</th>\n      <td>2024</td>\n      <td>46</td>\n      <td>7</td>\n    </tr>\n    <tr>\n      <th>27</th>\n      <td>2024</td>\n      <td>28</td>\n      <td>7</td>\n    </tr>\n  </tbody>\n</table>\n<p>408 rows × 3 columns</p>\n</div>"
     },
     "execution_count": 11,
     "metadata": {},
     "output_type": "execute_result"
    }
   ],
   "source": [
    "get_most_common_numbers_by_year(lotto)"
   ]
  },
  {
   "cell_type": "code",
   "execution_count": 12,
   "id": "e77c4539e369ca1d",
   "metadata": {
    "collapsed": false,
    "ExecuteTime": {
     "end_time": "2024-04-04T23:40:09.292529900Z",
     "start_time": "2024-04-04T23:40:09.133882Z"
    }
   },
   "outputs": [
    {
     "data": {
      "text/plain": "    year number count\n39  2012     40   156\n26  2012     27   130\n42  2012     43   117\n11  2012     12   117\n43  2012     44   104\n..   ...    ...   ...\n28  2024     29     8\n7   2024      8     8\n8   2024      9     8\n36  2024     37     8\n34  2024     35     7\n\n[78 rows x 3 columns]",
      "text/html": "<div>\n<style scoped>\n    .dataframe tbody tr th:only-of-type {\n        vertical-align: middle;\n    }\n\n    .dataframe tbody tr th {\n        vertical-align: top;\n    }\n\n    .dataframe thead th {\n        text-align: right;\n    }\n</style>\n<table border=\"1\" class=\"dataframe\">\n  <thead>\n    <tr style=\"text-align: right;\">\n      <th></th>\n      <th>year</th>\n      <th>number</th>\n      <th>count</th>\n    </tr>\n  </thead>\n  <tbody>\n    <tr>\n      <th>39</th>\n      <td>2012</td>\n      <td>40</td>\n      <td>156</td>\n    </tr>\n    <tr>\n      <th>26</th>\n      <td>2012</td>\n      <td>27</td>\n      <td>130</td>\n    </tr>\n    <tr>\n      <th>42</th>\n      <td>2012</td>\n      <td>43</td>\n      <td>117</td>\n    </tr>\n    <tr>\n      <th>11</th>\n      <td>2012</td>\n      <td>12</td>\n      <td>117</td>\n    </tr>\n    <tr>\n      <th>43</th>\n      <td>2012</td>\n      <td>44</td>\n      <td>104</td>\n    </tr>\n    <tr>\n      <th>...</th>\n      <td>...</td>\n      <td>...</td>\n      <td>...</td>\n    </tr>\n    <tr>\n      <th>28</th>\n      <td>2024</td>\n      <td>29</td>\n      <td>8</td>\n    </tr>\n    <tr>\n      <th>7</th>\n      <td>2024</td>\n      <td>8</td>\n      <td>8</td>\n    </tr>\n    <tr>\n      <th>8</th>\n      <td>2024</td>\n      <td>9</td>\n      <td>8</td>\n    </tr>\n    <tr>\n      <th>36</th>\n      <td>2024</td>\n      <td>37</td>\n      <td>8</td>\n    </tr>\n    <tr>\n      <th>34</th>\n      <td>2024</td>\n      <td>35</td>\n      <td>7</td>\n    </tr>\n  </tbody>\n</table>\n<p>78 rows × 3 columns</p>\n</div>"
     },
     "execution_count": 12,
     "metadata": {},
     "output_type": "execute_result"
    }
   ],
   "source": [
    "get_most_common_numbers_by_year(lotto_plus)"
   ]
  },
  {
   "cell_type": "code",
   "execution_count": 13,
   "id": "da08b2b143697204",
   "metadata": {
    "collapsed": false,
    "ExecuteTime": {
     "end_time": "2024-04-04T23:40:09.694006Z",
     "start_time": "2024-04-04T23:40:09.233526600Z"
    }
   },
   "outputs": [
    {
     "data": {
      "text/plain": "    year number count\n25  1981     26   462\n4   1981      5   462\n33  1981     34   420\n29  1981     30   378\n14  1981     15   336\n..   ...    ...   ...\n40  2024     41    18\n17  2024     18    18\n27  2024     28    16\n30  2024     31    15\n25  2024     26    15\n\n[258 rows x 3 columns]",
      "text/html": "<div>\n<style scoped>\n    .dataframe tbody tr th:only-of-type {\n        vertical-align: middle;\n    }\n\n    .dataframe tbody tr th {\n        vertical-align: top;\n    }\n\n    .dataframe thead th {\n        text-align: right;\n    }\n</style>\n<table border=\"1\" class=\"dataframe\">\n  <thead>\n    <tr style=\"text-align: right;\">\n      <th></th>\n      <th>year</th>\n      <th>number</th>\n      <th>count</th>\n    </tr>\n  </thead>\n  <tbody>\n    <tr>\n      <th>25</th>\n      <td>1981</td>\n      <td>26</td>\n      <td>462</td>\n    </tr>\n    <tr>\n      <th>4</th>\n      <td>1981</td>\n      <td>5</td>\n      <td>462</td>\n    </tr>\n    <tr>\n      <th>33</th>\n      <td>1981</td>\n      <td>34</td>\n      <td>420</td>\n    </tr>\n    <tr>\n      <th>29</th>\n      <td>1981</td>\n      <td>30</td>\n      <td>378</td>\n    </tr>\n    <tr>\n      <th>14</th>\n      <td>1981</td>\n      <td>15</td>\n      <td>336</td>\n    </tr>\n    <tr>\n      <th>...</th>\n      <td>...</td>\n      <td>...</td>\n      <td>...</td>\n    </tr>\n    <tr>\n      <th>40</th>\n      <td>2024</td>\n      <td>41</td>\n      <td>18</td>\n    </tr>\n    <tr>\n      <th>17</th>\n      <td>2024</td>\n      <td>18</td>\n      <td>18</td>\n    </tr>\n    <tr>\n      <th>27</th>\n      <td>2024</td>\n      <td>28</td>\n      <td>16</td>\n    </tr>\n    <tr>\n      <th>30</th>\n      <td>2024</td>\n      <td>31</td>\n      <td>15</td>\n    </tr>\n    <tr>\n      <th>25</th>\n      <td>2024</td>\n      <td>26</td>\n      <td>15</td>\n    </tr>\n  </tbody>\n</table>\n<p>258 rows × 3 columns</p>\n</div>"
     },
     "execution_count": 13,
     "metadata": {},
     "output_type": "execute_result"
    }
   ],
   "source": [
    "get_most_common_numbers_by_year(mini_lotto)"
   ]
  },
  {
   "cell_type": "code",
   "execution_count": 31,
   "id": "23236c76-4fd4-4618-a281-c608e093f03b",
   "metadata": {
    "ExecuteTime": {
     "end_time": "2024-04-04T23:51:24.055130600Z",
     "start_time": "2024-04-04T23:51:24.044989800Z"
    }
   },
   "outputs": [],
   "source": [
    "from itertools import combinations\n",
    "from collections import Counter\n",
    "\n",
    "def most_common_number_string(dataset):\n",
    "    set_counts = Counter()\n",
    "    max_length = 6\n",
    "    \n",
    "    numbers_split = dataset['numbers'].str.split(',')\n",
    "    \n",
    "    for nums in numbers_split:\n",
    "        nums.sort()\n",
    "        for length in range(2, min(max_length, len(nums)) + 1):\n",
    "            sets = [tuple(sorted(combo)) for combo in combinations(nums, length)]\n",
    "            set_counts.update(sets)\n",
    "    \n",
    "    sets_df = pd.DataFrame(list(set_counts.items()), columns=['Set', 'Count'])\n",
    "    sets_df = sets_df.sort_values(by='Count', ascending=False)\n",
    "    \n",
    "    return sets_df"
   ]
  },
  {
   "cell_type": "code",
   "outputs": [
    {
     "data": {
      "text/plain": "                             Set  Count\n462                     (27, 34)   3645\n5860                     (18, 9)   3580\n2144                    (20, 29)   3577\n902                     (17, 38)   3573\n847                      (16, 6)   3548\n...                          ...    ...\n150874          (12, 17, 34, 39)      1\n150875          (12, 17, 34, 46)      1\n150876          (12, 17, 39, 46)      1\n150877          (12, 34, 39, 46)      1\n151304  (15, 18, 28, 30, 37, 49)      1\n\n[151305 rows x 2 columns]",
      "text/html": "<div>\n<style scoped>\n    .dataframe tbody tr th:only-of-type {\n        vertical-align: middle;\n    }\n\n    .dataframe tbody tr th {\n        vertical-align: top;\n    }\n\n    .dataframe thead th {\n        text-align: right;\n    }\n</style>\n<table border=\"1\" class=\"dataframe\">\n  <thead>\n    <tr style=\"text-align: right;\">\n      <th></th>\n      <th>Set</th>\n      <th>Count</th>\n    </tr>\n  </thead>\n  <tbody>\n    <tr>\n      <th>462</th>\n      <td>(27, 34)</td>\n      <td>3645</td>\n    </tr>\n    <tr>\n      <th>5860</th>\n      <td>(18, 9)</td>\n      <td>3580</td>\n    </tr>\n    <tr>\n      <th>2144</th>\n      <td>(20, 29)</td>\n      <td>3577</td>\n    </tr>\n    <tr>\n      <th>902</th>\n      <td>(17, 38)</td>\n      <td>3573</td>\n    </tr>\n    <tr>\n      <th>847</th>\n      <td>(16, 6)</td>\n      <td>3548</td>\n    </tr>\n    <tr>\n      <th>...</th>\n      <td>...</td>\n      <td>...</td>\n    </tr>\n    <tr>\n      <th>150874</th>\n      <td>(12, 17, 34, 39)</td>\n      <td>1</td>\n    </tr>\n    <tr>\n      <th>150875</th>\n      <td>(12, 17, 34, 46)</td>\n      <td>1</td>\n    </tr>\n    <tr>\n      <th>150876</th>\n      <td>(12, 17, 39, 46)</td>\n      <td>1</td>\n    </tr>\n    <tr>\n      <th>150877</th>\n      <td>(12, 34, 39, 46)</td>\n      <td>1</td>\n    </tr>\n    <tr>\n      <th>151304</th>\n      <td>(15, 18, 28, 30, 37, 49)</td>\n      <td>1</td>\n    </tr>\n  </tbody>\n</table>\n<p>151305 rows × 2 columns</p>\n</div>"
     },
     "execution_count": 32,
     "metadata": {},
     "output_type": "execute_result"
    }
   ],
   "source": [
    "most_common_number_string(lotto)"
   ],
   "metadata": {
    "collapsed": false,
    "ExecuteTime": {
     "end_time": "2024-04-04T23:51:35.671756300Z",
     "start_time": "2024-04-04T23:51:26.057663700Z"
    }
   },
   "id": "477e597747509667",
   "execution_count": 32
  },
  {
   "cell_type": "code",
   "outputs": [
    {
     "data": {
      "text/plain": "                            Set  Count\n292                     (29, 6)    305\n790                     (12, 8)    288\n741                    (20, 40)    283\n1562                   (17, 29)    278\n4753                   (38, 40)    276\n...                         ...    ...\n54489           (18, 21, 29, 6)      1\n54490          (18, 21, 34, 38)      1\n54491           (18, 21, 34, 6)      1\n54492           (18, 21, 38, 6)      1\n55101  (15, 16, 17, 34, 42, 45)      1\n\n[55102 rows x 2 columns]",
      "text/html": "<div>\n<style scoped>\n    .dataframe tbody tr th:only-of-type {\n        vertical-align: middle;\n    }\n\n    .dataframe tbody tr th {\n        vertical-align: top;\n    }\n\n    .dataframe thead th {\n        text-align: right;\n    }\n</style>\n<table border=\"1\" class=\"dataframe\">\n  <thead>\n    <tr style=\"text-align: right;\">\n      <th></th>\n      <th>Set</th>\n      <th>Count</th>\n    </tr>\n  </thead>\n  <tbody>\n    <tr>\n      <th>292</th>\n      <td>(29, 6)</td>\n      <td>305</td>\n    </tr>\n    <tr>\n      <th>790</th>\n      <td>(12, 8)</td>\n      <td>288</td>\n    </tr>\n    <tr>\n      <th>741</th>\n      <td>(20, 40)</td>\n      <td>283</td>\n    </tr>\n    <tr>\n      <th>1562</th>\n      <td>(17, 29)</td>\n      <td>278</td>\n    </tr>\n    <tr>\n      <th>4753</th>\n      <td>(38, 40)</td>\n      <td>276</td>\n    </tr>\n    <tr>\n      <th>...</th>\n      <td>...</td>\n      <td>...</td>\n    </tr>\n    <tr>\n      <th>54489</th>\n      <td>(18, 21, 29, 6)</td>\n      <td>1</td>\n    </tr>\n    <tr>\n      <th>54490</th>\n      <td>(18, 21, 34, 38)</td>\n      <td>1</td>\n    </tr>\n    <tr>\n      <th>54491</th>\n      <td>(18, 21, 34, 6)</td>\n      <td>1</td>\n    </tr>\n    <tr>\n      <th>54492</th>\n      <td>(18, 21, 38, 6)</td>\n      <td>1</td>\n    </tr>\n    <tr>\n      <th>55101</th>\n      <td>(15, 16, 17, 34, 42, 45)</td>\n      <td>1</td>\n    </tr>\n  </tbody>\n</table>\n<p>55102 rows × 2 columns</p>\n</div>"
     },
     "execution_count": 33,
     "metadata": {},
     "output_type": "execute_result"
    }
   ],
   "source": [
    "most_common_number_string(lotto_plus)"
   ],
   "metadata": {
    "collapsed": false,
    "ExecuteTime": {
     "end_time": "2024-04-04T23:51:36.221668100Z",
     "start_time": "2024-04-04T23:51:35.662757400Z"
    }
   },
   "id": "ab9990dee5fb89ed",
   "execution_count": 33
  },
  {
   "cell_type": "code",
   "outputs": [
    {
     "data": {
      "text/plain": "                        Set  Count\n178                (15, 21)   1518\n543                (15, 30)   1435\n921                 (32, 7)   1368\n2648                 (2, 3)   1273\n209                (22, 29)   1253\n...                     ...    ...\n43232      (20, 27, 29, 31)      1\n43233  (19, 20, 27, 29, 31)      1\n43234        (2, 20, 26, 7)      1\n43235        (2, 20, 31, 7)      1\n46050   (10, 17, 25, 29, 8)      1\n\n[46051 rows x 2 columns]",
      "text/html": "<div>\n<style scoped>\n    .dataframe tbody tr th:only-of-type {\n        vertical-align: middle;\n    }\n\n    .dataframe tbody tr th {\n        vertical-align: top;\n    }\n\n    .dataframe thead th {\n        text-align: right;\n    }\n</style>\n<table border=\"1\" class=\"dataframe\">\n  <thead>\n    <tr style=\"text-align: right;\">\n      <th></th>\n      <th>Set</th>\n      <th>Count</th>\n    </tr>\n  </thead>\n  <tbody>\n    <tr>\n      <th>178</th>\n      <td>(15, 21)</td>\n      <td>1518</td>\n    </tr>\n    <tr>\n      <th>543</th>\n      <td>(15, 30)</td>\n      <td>1435</td>\n    </tr>\n    <tr>\n      <th>921</th>\n      <td>(32, 7)</td>\n      <td>1368</td>\n    </tr>\n    <tr>\n      <th>2648</th>\n      <td>(2, 3)</td>\n      <td>1273</td>\n    </tr>\n    <tr>\n      <th>209</th>\n      <td>(22, 29)</td>\n      <td>1253</td>\n    </tr>\n    <tr>\n      <th>...</th>\n      <td>...</td>\n      <td>...</td>\n    </tr>\n    <tr>\n      <th>43232</th>\n      <td>(20, 27, 29, 31)</td>\n      <td>1</td>\n    </tr>\n    <tr>\n      <th>43233</th>\n      <td>(19, 20, 27, 29, 31)</td>\n      <td>1</td>\n    </tr>\n    <tr>\n      <th>43234</th>\n      <td>(2, 20, 26, 7)</td>\n      <td>1</td>\n    </tr>\n    <tr>\n      <th>43235</th>\n      <td>(2, 20, 31, 7)</td>\n      <td>1</td>\n    </tr>\n    <tr>\n      <th>46050</th>\n      <td>(10, 17, 25, 29, 8)</td>\n      <td>1</td>\n    </tr>\n  </tbody>\n</table>\n<p>46051 rows × 2 columns</p>\n</div>"
     },
     "execution_count": 34,
     "metadata": {},
     "output_type": "execute_result"
    }
   ],
   "source": [
    "most_common_number_string(mini_lotto)"
   ],
   "metadata": {
    "collapsed": false,
    "ExecuteTime": {
     "end_time": "2024-04-04T23:51:37.803976800Z",
     "start_time": "2024-04-04T23:51:36.214669400Z"
    }
   },
   "id": "6b82015cccff97d3",
   "execution_count": 34
  }
 ],
 "metadata": {
  "kernelspec": {
   "display_name": "Python 3 (ipykernel)",
   "language": "python",
   "name": "python3"
  },
  "language_info": {
   "codemirror_mode": {
    "name": "ipython",
    "version": 3
   },
   "file_extension": ".py",
   "mimetype": "text/x-python",
   "name": "python",
   "nbconvert_exporter": "python",
   "pygments_lexer": "ipython3",
   "version": "3.12.0"
  }
 },
 "nbformat": 4,
 "nbformat_minor": 5
}
