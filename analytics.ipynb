{
 "cells": [
  {
   "cell_type": "code",
   "execution_count": 9,
   "id": "initial_id",
   "metadata": {
    "collapsed": true,
    "ExecuteTime": {
     "end_time": "2024-04-04T14:46:43.018419500Z",
     "start_time": "2024-04-04T14:46:43.015902800Z"
    }
   },
   "outputs": [],
   "source": [
    "import pandas as pd \n",
    "import matplotlib.pyplot as plt\n"
   ]
  },
  {
   "cell_type": "code",
   "outputs": [],
   "source": [
    "lotto = pd.read_csv(\"./output/merged_lotto.csv\")\n",
    "\n",
    "lotto_plus = pd.read_csv(\"./output/merged_lottoplus.csv\")\n",
    "\n",
    "mini_lotto = pd.read_csv(\"./output/mini_lotto.csv\")\n"
   ],
   "metadata": {
    "collapsed": false,
    "ExecuteTime": {
     "end_time": "2024-04-04T14:47:50.576419900Z",
     "start_time": "2024-04-04T14:47:50.332482500Z"
    }
   },
   "id": "688f4a41fce5feae",
   "execution_count": 10
  },
  {
   "cell_type": "code",
   "outputs": [
    {
     "name": "stdout",
     "output_type": "stream",
     "text": [
      "   number        date            numbers  szostka_count  szostka_value  \\\n",
      "0      47  22-12-1957   8,15,24,27,37,46              0            0.0   \n",
      "1      46  15-12-1957   7,12,19,36,42,49              0            0.0   \n",
      "2      45  08-12-1957  11,17,24,35,42,47              0            0.0   \n",
      "3      44  01-12-1957    5,8,14,26,32,44              0            0.0   \n",
      "4      43  24-11-1957    2,6,18,20,40,49              0            0.0   \n",
      "\n",
      "   piatka_count  piatka_value  czworka_count  czworka_value  trojka_count  \\\n",
      "0             0           0.0              0            0.0             0   \n",
      "1             0           0.0              0            0.0             0   \n",
      "2             0           0.0              0            0.0             0   \n",
      "3             0           0.0              0            0.0             0   \n",
      "4             0           0.0              0            0.0             0   \n",
      "\n",
      "   trojka_value  \n",
      "0           0.0  \n",
      "1           0.0  \n",
      "2           0.0  \n",
      "3           0.0  \n",
      "4           0.0  \n"
     ]
    }
   ],
   "source": [
    "print(lotto.head())"
   ],
   "metadata": {
    "collapsed": false,
    "ExecuteTime": {
     "end_time": "2024-04-04T14:48:11.065076100Z",
     "start_time": "2024-04-04T14:48:11.060066900Z"
    }
   },
   "id": "8c000a76cec3ebca",
   "execution_count": 11
  },
  {
   "cell_type": "code",
   "outputs": [],
   "source": [
    "def count_winnings_by_year(dataset):\n",
    "    dataset['date'] = pd.to_datetime(dataset['date'], format='%d-%m-%Y')    \n",
    "    dataset['year'] = dataset['date'].dt.year\n",
    "    \n",
    "    result = dataset.groupby('year').agg({\n",
    "        'szostka_count': 'sum',\n",
    "        'piatka_count': 'sum',\n",
    "        'czworka_count': 'sum',\n",
    "        'trojka_count': 'sum'\n",
    "    }).reset_index()\n",
    "    return result\n",
    "    "
   ],
   "metadata": {
    "collapsed": false
   },
   "id": "9e8f443f4c1acbb",
   "execution_count": null
  },
  {
   "cell_type": "code",
   "outputs": [],
   "source": [],
   "metadata": {
    "collapsed": false
   },
   "id": "3170fee476a358f"
  }
 ],
 "metadata": {
  "kernelspec": {
   "display_name": "Python 3",
   "language": "python",
   "name": "python3"
  },
  "language_info": {
   "codemirror_mode": {
    "name": "ipython",
    "version": 2
   },
   "file_extension": ".py",
   "mimetype": "text/x-python",
   "name": "python",
   "nbconvert_exporter": "python",
   "pygments_lexer": "ipython2",
   "version": "2.7.6"
  }
 },
 "nbformat": 4,
 "nbformat_minor": 5
}
